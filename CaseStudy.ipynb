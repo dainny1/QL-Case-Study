{
 "cells": [
  {
   "cell_type": "markdown",
   "metadata": {},
   "source": [
    "# Term Deposit Predictions\n",
    "Jacob Macdonald\n",
    "### Problem Definition\n",
    "Term deposits are an important mechanism for banks to receive funds they can use in other investments with higher rates of return. Thus, it is of great interest for banks to better understand what factors may contribute to customers deciding to subscribe to a term deposit. In this case study, I developed models describing the relationship between a variety of factors from directed marketing campaigns for term deposits and the likelihood of the targets in question subscribing to a term deposit.\n",
    "### Data Set\n",
    "The provided data set was derived from direct marketing campaigns for term deposits of a Portuguese banking institution from May 2008 to November 2010. The marketing campaigns were conducted over the phone, both actively calling a list of clients to sell the deposit and soliciting client calls to the contact center for any other reason. The data set can be downloaded from [UC Irvine's Machine Learning Respository](https://archive.ics.uci.edu/ml/datasets/Bank+Marketing) and was published in the [Decision Support Systems Journal](https://www.sciencedirect.com/science/article/pii/S016792361400061X)."
   ]
  },
  {
   "cell_type": "code",
   "execution_count": 1,
   "metadata": {},
   "outputs": [],
   "source": [
    "# Importing useful Python libraries\n",
    "import numpy as np\n",
    "import pandas as pd\n",
    "import matplotlib.pyplot as plt\n",
    "import seaborn as sns\n",
    "%matplotlib inline\n",
    "\n",
    "# The grid search model selection process occasionally resulted in parameters that were divided by 0, throwing warnings.\n",
    "# These warning were suppressed for enhanced readability following finalization of all code.\n",
    "import warnings\n",
    "warnings.filterwarnings(\"ignore\")"
   ]
  },
  {
   "cell_type": "code",
   "execution_count": 2,
   "metadata": {},
   "outputs": [],
   "source": [
    "# Loading in the data sets\n",
    "bank_full = pd.read_csv(\"bank-additional-full.csv\", sep=\";\") #Full data set\n",
    "bank_partial = pd.read_csv(\"bank-additional.csv\", sep=\";\") # Data set with 10% of cases (same features as full data set)"
   ]
  },
  {
   "cell_type": "code",
   "execution_count": 3,
   "metadata": {},
   "outputs": [
    {
     "data": {
      "text/html": [
       "<div>\n",
       "<style scoped>\n",
       "    .dataframe tbody tr th:only-of-type {\n",
       "        vertical-align: middle;\n",
       "    }\n",
       "\n",
       "    .dataframe tbody tr th {\n",
       "        vertical-align: top;\n",
       "    }\n",
       "\n",
       "    .dataframe thead th {\n",
       "        text-align: right;\n",
       "    }\n",
       "</style>\n",
       "<table border=\"1\" class=\"dataframe\">\n",
       "  <thead>\n",
       "    <tr style=\"text-align: right;\">\n",
       "      <th></th>\n",
       "      <th>age</th>\n",
       "      <th>job</th>\n",
       "      <th>marital</th>\n",
       "      <th>education</th>\n",
       "      <th>default</th>\n",
       "      <th>housing</th>\n",
       "      <th>loan</th>\n",
       "      <th>contact</th>\n",
       "      <th>month</th>\n",
       "      <th>day_of_week</th>\n",
       "      <th>...</th>\n",
       "      <th>campaign</th>\n",
       "      <th>pdays</th>\n",
       "      <th>previous</th>\n",
       "      <th>poutcome</th>\n",
       "      <th>emp.var.rate</th>\n",
       "      <th>cons.price.idx</th>\n",
       "      <th>cons.conf.idx</th>\n",
       "      <th>euribor3m</th>\n",
       "      <th>nr.employed</th>\n",
       "      <th>y</th>\n",
       "    </tr>\n",
       "  </thead>\n",
       "  <tbody>\n",
       "    <tr>\n",
       "      <th>0</th>\n",
       "      <td>56</td>\n",
       "      <td>housemaid</td>\n",
       "      <td>married</td>\n",
       "      <td>basic.4y</td>\n",
       "      <td>no</td>\n",
       "      <td>no</td>\n",
       "      <td>no</td>\n",
       "      <td>telephone</td>\n",
       "      <td>may</td>\n",
       "      <td>mon</td>\n",
       "      <td>...</td>\n",
       "      <td>1</td>\n",
       "      <td>999</td>\n",
       "      <td>0</td>\n",
       "      <td>nonexistent</td>\n",
       "      <td>1.1</td>\n",
       "      <td>93.994</td>\n",
       "      <td>-36.4</td>\n",
       "      <td>4.857</td>\n",
       "      <td>5191.0</td>\n",
       "      <td>no</td>\n",
       "    </tr>\n",
       "    <tr>\n",
       "      <th>1</th>\n",
       "      <td>57</td>\n",
       "      <td>services</td>\n",
       "      <td>married</td>\n",
       "      <td>high.school</td>\n",
       "      <td>unknown</td>\n",
       "      <td>no</td>\n",
       "      <td>no</td>\n",
       "      <td>telephone</td>\n",
       "      <td>may</td>\n",
       "      <td>mon</td>\n",
       "      <td>...</td>\n",
       "      <td>1</td>\n",
       "      <td>999</td>\n",
       "      <td>0</td>\n",
       "      <td>nonexistent</td>\n",
       "      <td>1.1</td>\n",
       "      <td>93.994</td>\n",
       "      <td>-36.4</td>\n",
       "      <td>4.857</td>\n",
       "      <td>5191.0</td>\n",
       "      <td>no</td>\n",
       "    </tr>\n",
       "    <tr>\n",
       "      <th>2</th>\n",
       "      <td>37</td>\n",
       "      <td>services</td>\n",
       "      <td>married</td>\n",
       "      <td>high.school</td>\n",
       "      <td>no</td>\n",
       "      <td>yes</td>\n",
       "      <td>no</td>\n",
       "      <td>telephone</td>\n",
       "      <td>may</td>\n",
       "      <td>mon</td>\n",
       "      <td>...</td>\n",
       "      <td>1</td>\n",
       "      <td>999</td>\n",
       "      <td>0</td>\n",
       "      <td>nonexistent</td>\n",
       "      <td>1.1</td>\n",
       "      <td>93.994</td>\n",
       "      <td>-36.4</td>\n",
       "      <td>4.857</td>\n",
       "      <td>5191.0</td>\n",
       "      <td>no</td>\n",
       "    </tr>\n",
       "    <tr>\n",
       "      <th>3</th>\n",
       "      <td>40</td>\n",
       "      <td>admin.</td>\n",
       "      <td>married</td>\n",
       "      <td>basic.6y</td>\n",
       "      <td>no</td>\n",
       "      <td>no</td>\n",
       "      <td>no</td>\n",
       "      <td>telephone</td>\n",
       "      <td>may</td>\n",
       "      <td>mon</td>\n",
       "      <td>...</td>\n",
       "      <td>1</td>\n",
       "      <td>999</td>\n",
       "      <td>0</td>\n",
       "      <td>nonexistent</td>\n",
       "      <td>1.1</td>\n",
       "      <td>93.994</td>\n",
       "      <td>-36.4</td>\n",
       "      <td>4.857</td>\n",
       "      <td>5191.0</td>\n",
       "      <td>no</td>\n",
       "    </tr>\n",
       "    <tr>\n",
       "      <th>4</th>\n",
       "      <td>56</td>\n",
       "      <td>services</td>\n",
       "      <td>married</td>\n",
       "      <td>high.school</td>\n",
       "      <td>no</td>\n",
       "      <td>no</td>\n",
       "      <td>yes</td>\n",
       "      <td>telephone</td>\n",
       "      <td>may</td>\n",
       "      <td>mon</td>\n",
       "      <td>...</td>\n",
       "      <td>1</td>\n",
       "      <td>999</td>\n",
       "      <td>0</td>\n",
       "      <td>nonexistent</td>\n",
       "      <td>1.1</td>\n",
       "      <td>93.994</td>\n",
       "      <td>-36.4</td>\n",
       "      <td>4.857</td>\n",
       "      <td>5191.0</td>\n",
       "      <td>no</td>\n",
       "    </tr>\n",
       "  </tbody>\n",
       "</table>\n",
       "<p>5 rows × 21 columns</p>\n",
       "</div>"
      ],
      "text/plain": [
       "   age        job  marital    education  default housing loan    contact  \\\n",
       "0   56  housemaid  married     basic.4y       no      no   no  telephone   \n",
       "1   57   services  married  high.school  unknown      no   no  telephone   \n",
       "2   37   services  married  high.school       no     yes   no  telephone   \n",
       "3   40     admin.  married     basic.6y       no      no   no  telephone   \n",
       "4   56   services  married  high.school       no      no  yes  telephone   \n",
       "\n",
       "  month day_of_week ...  campaign  pdays  previous     poutcome emp.var.rate  \\\n",
       "0   may         mon ...         1    999         0  nonexistent          1.1   \n",
       "1   may         mon ...         1    999         0  nonexistent          1.1   \n",
       "2   may         mon ...         1    999         0  nonexistent          1.1   \n",
       "3   may         mon ...         1    999         0  nonexistent          1.1   \n",
       "4   may         mon ...         1    999         0  nonexistent          1.1   \n",
       "\n",
       "   cons.price.idx  cons.conf.idx  euribor3m  nr.employed   y  \n",
       "0          93.994          -36.4      4.857       5191.0  no  \n",
       "1          93.994          -36.4      4.857       5191.0  no  \n",
       "2          93.994          -36.4      4.857       5191.0  no  \n",
       "3          93.994          -36.4      4.857       5191.0  no  \n",
       "4          93.994          -36.4      4.857       5191.0  no  \n",
       "\n",
       "[5 rows x 21 columns]"
      ]
     },
     "execution_count": 3,
     "metadata": {},
     "output_type": "execute_result"
    }
   ],
   "source": [
    "# Confirming correct file import\n",
    "bank_full.head()"
   ]
  },
  {
   "cell_type": "markdown",
   "metadata": {},
   "source": [
    "### Model Strategy\n",
    "For model development, I will focus on the partial data set with 10% of the values. This will allow for easier testing of computationally demanding machine learning algorithms. A variety of classification machine learning algorithms will be investigated, including logistic regression, random forests, and SVM."
   ]
  },
  {
   "cell_type": "markdown",
   "metadata": {},
   "source": [
    "### Data Cleaning\n",
    "First and foremost, let's convert the results column \"y\" from \"yes\" or \"no\" to the binary outcomes of 1 or 0, respectively."
   ]
  },
  {
   "cell_type": "code",
   "execution_count": 4,
   "metadata": {},
   "outputs": [],
   "source": [
    "bank_partial[\"y\"] = bank_partial[\"y\"].replace([\"yes\",\"no\"],[1,0])"
   ]
  },
  {
   "cell_type": "markdown",
   "metadata": {},
   "source": [
    "The feature columns need to be cleaned for a variety of factors that could confound the developed models, including:\n",
    "1. Leaking information from the future\n",
    "2. Poor formatting\n",
    "3. Containing redundant data\n",
    "4. Missing data or needing more processing to be useful\n",
    "\n",
    "Before cleaning any features, however, let's first remove any duplicate rows from the data set."
   ]
  },
  {
   "cell_type": "code",
   "execution_count": 5,
   "metadata": {},
   "outputs": [
    {
     "name": "stdout",
     "output_type": "stream",
     "text": [
      "Number of rows before duplicate removal:  4119\n",
      "Number of duplicates:  0\n",
      "Number of rows after duplicate removal:  4119\n"
     ]
    }
   ],
   "source": [
    "print(\"Number of rows before duplicate removal: \", bank_partial.shape[0])\n",
    "n_duplicates = bank_partial.duplicated().sum()\n",
    "print(\"Number of duplicates: \",n_duplicates)\n",
    "bank_partial = bank_partial.drop_duplicates()\n",
    "print(\"Number of rows after duplicate removal: \",bank_partial.shape[0])"
   ]
  },
  {
   "cell_type": "markdown",
   "metadata": {},
   "source": [
    "#### Leaking Information from the Future\n",
    "The aim is to develop a model that will help banking institutions determine clients who will be receptive to term deposit marketing campaigns **in advance**. Thus, features should be omitted if they include information we could not realistically control for future campaigns. Including these in our model could lead to overfitting. Referring to the data dictionary for this data set reveal a few features that should be excluded for this reason.\n",
    "* \"duration\": Call duration cannot be controlled in advance.\n",
    "* \"campaign\": It cannot be predicted in advance how many contacts will be performed for a particular person during the campaign."
   ]
  },
  {
   "cell_type": "code",
   "execution_count": 6,
   "metadata": {},
   "outputs": [],
   "source": [
    "# Removing these two features from our data set.\n",
    "bank_partial = bank_partial.drop(['duration','campaign'], axis=1)"
   ]
  },
  {
   "cell_type": "markdown",
   "metadata": {},
   "source": [
    "#### Poor Formatting\n",
    "Inspection of the features reveals that this data set has consistent formatting for each category. Thus, no cleaning needs to be done in this respect.\n",
    "\n",
    "#### Containing Redundant Data\n",
    "The features \"pdays\", \"previous\", and \"poutcome\" seem to have redundant data. If we include this information and there is a correlation between clients not previously being contacted and willingness to subscribe to a term deposit, the model may overfit on this relationship given its representation in all three of these features. For simplicity, let's only keep one. We will keep \"poutcome\" because it is most directly relevant to the goal of predicting how amenable a client will be to subscribing to a service."
   ]
  },
  {
   "cell_type": "code",
   "execution_count": 7,
   "metadata": {},
   "outputs": [
    {
     "data": {
      "text/plain": [
       "999    3959\n",
       "3        52\n",
       "6        42\n",
       "4        14\n",
       "7        10\n",
       "10        8\n",
       "12        5\n",
       "5         4\n",
       "2         4\n",
       "9         3\n",
       "1         3\n",
       "13        2\n",
       "18        2\n",
       "16        2\n",
       "15        2\n",
       "0         2\n",
       "14        1\n",
       "19        1\n",
       "21        1\n",
       "17        1\n",
       "11        1\n",
       "Name: pdays, dtype: int64"
      ]
     },
     "execution_count": 7,
     "metadata": {},
     "output_type": "execute_result"
    }
   ],
   "source": [
    "bank_partial[\"pdays\"].value_counts()"
   ]
  },
  {
   "cell_type": "code",
   "execution_count": 8,
   "metadata": {},
   "outputs": [
    {
     "data": {
      "text/plain": [
       "0    3523\n",
       "1     475\n",
       "2      78\n",
       "3      25\n",
       "4      14\n",
       "6       2\n",
       "5       2\n",
       "Name: previous, dtype: int64"
      ]
     },
     "execution_count": 8,
     "metadata": {},
     "output_type": "execute_result"
    }
   ],
   "source": [
    "bank_partial[\"previous\"].value_counts()"
   ]
  },
  {
   "cell_type": "code",
   "execution_count": 9,
   "metadata": {},
   "outputs": [
    {
     "data": {
      "text/plain": [
       "nonexistent    3523\n",
       "failure         454\n",
       "success         142\n",
       "Name: poutcome, dtype: int64"
      ]
     },
     "execution_count": 9,
     "metadata": {},
     "output_type": "execute_result"
    }
   ],
   "source": [
    "bank_partial[\"poutcome\"].value_counts()"
   ]
  },
  {
   "cell_type": "code",
   "execution_count": 10,
   "metadata": {},
   "outputs": [],
   "source": [
    "# Removing the redundant features from our data set.\n",
    "bank_partial = bank_partial.drop(['pdays','previous'], axis=1)"
   ]
  },
  {
   "cell_type": "markdown",
   "metadata": {},
   "source": [
    "#### Missing Data or Needing More Processing to be Useful\n",
    "For this step it is important to remember that missing values in this data set do not appear as NaN, but as the text field \"unknown.\" Approaching this on a feature-by-feature basis:\n",
    "\n",
    "*Age:* Currently there are 67 unique values for age, ranging from 18 to 88. We will standardize this parameter. This will be done later in the notebook with the economic indicators."
   ]
  },
  {
   "cell_type": "code",
   "execution_count": 11,
   "metadata": {},
   "outputs": [
    {
     "data": {
      "text/plain": [
       "count    4119.000000\n",
       "mean       40.113620\n",
       "std        10.313362\n",
       "min        18.000000\n",
       "25%        32.000000\n",
       "50%        38.000000\n",
       "75%        47.000000\n",
       "max        88.000000\n",
       "Name: age, dtype: float64"
      ]
     },
     "execution_count": 11,
     "metadata": {},
     "output_type": "execute_result"
    }
   ],
   "source": [
    "bank_partial[\"age\"].describe()"
   ]
  },
  {
   "cell_type": "markdown",
   "metadata": {},
   "source": [
    "*Job:* This feature is a categorical variable with 12 categories (including the unknown column). In the context of this work, we are trying to develop a model to accurately predict who will subscribe to term deposits. A bank will likely have employment information on their own customers, so let's remove the rows with \"unknown\" values since the bank is unlikely to target these in a future campaign."
   ]
  },
  {
   "cell_type": "code",
   "execution_count": 12,
   "metadata": {
    "scrolled": true
   },
   "outputs": [
    {
     "data": {
      "text/plain": [
       "admin.           1012\n",
       "blue-collar       884\n",
       "technician        691\n",
       "services          393\n",
       "management        324\n",
       "retired           166\n",
       "self-employed     159\n",
       "entrepreneur      148\n",
       "unemployed        111\n",
       "housemaid         110\n",
       "student            82\n",
       "unknown            39\n",
       "Name: job, dtype: int64"
      ]
     },
     "execution_count": 12,
     "metadata": {},
     "output_type": "execute_result"
    }
   ],
   "source": [
    "bank_partial[\"job\"].value_counts()"
   ]
  },
  {
   "cell_type": "code",
   "execution_count": 13,
   "metadata": {},
   "outputs": [],
   "source": [
    "bank_partial = bank_partial[bank_partial[\"job\"] != \"unknown\"]"
   ]
  },
  {
   "cell_type": "markdown",
   "metadata": {},
   "source": [
    "*Marital:* This is another categorical feature with 4 values, including the missing values labelled \"unknown.\" As with the previous feature, the missing values comprise a miniscule portion of the data and cannot be adequately inferred. Since the bank would have marriage information on customers it would target with its next campaign, let's remove these unknown values to avoid introducing possible variance into the model with imputation."
   ]
  },
  {
   "cell_type": "code",
   "execution_count": 14,
   "metadata": {},
   "outputs": [
    {
     "data": {
      "text/plain": [
       "married     2481\n",
       "single      1144\n",
       "divorced     444\n",
       "unknown       11\n",
       "Name: marital, dtype: int64"
      ]
     },
     "execution_count": 14,
     "metadata": {},
     "output_type": "execute_result"
    }
   ],
   "source": [
    "bank_partial[\"marital\"].value_counts()"
   ]
  },
  {
   "cell_type": "code",
   "execution_count": 15,
   "metadata": {},
   "outputs": [],
   "source": [
    "bank_partial = bank_partial[bank_partial[\"marital\"] != \"unknown\"]"
   ]
  },
  {
   "cell_type": "markdown",
   "metadata": {},
   "source": [
    "*Education:* Another categorical feature with 8 values, including the missing field. This time, the missing field has a non-insignificant number of entries, which suggests we could lose some valuable information if we remove it. In previous studies it has been shown people are likely to not respond to questions or leave them blank if they feel embarassed by their answer or there is not an appropriate category for their answer. With this in mind, let's assume the unknown values correspond to a group who did not receive any formal education. Let's group them with the single illiterate subject in a new \"uneducated\" group."
   ]
  },
  {
   "cell_type": "code",
   "execution_count": 16,
   "metadata": {},
   "outputs": [
    {
     "data": {
      "text/plain": [
       "university.degree      1256\n",
       "high.school             912\n",
       "basic.9y                568\n",
       "professional.course     533\n",
       "basic.4y                418\n",
       "basic.6y                227\n",
       "unknown                 154\n",
       "illiterate                1\n",
       "Name: education, dtype: int64"
      ]
     },
     "execution_count": 16,
     "metadata": {},
     "output_type": "execute_result"
    }
   ],
   "source": [
    "bank_partial[\"education\"].value_counts()"
   ]
  },
  {
   "cell_type": "code",
   "execution_count": 17,
   "metadata": {},
   "outputs": [
    {
     "data": {
      "text/plain": [
       "university.degree      1256\n",
       "high.school             912\n",
       "basic.9y                568\n",
       "professional.course     533\n",
       "basic.4y                418\n",
       "basic.6y                227\n",
       "uneducated              155\n",
       "Name: education, dtype: int64"
      ]
     },
     "execution_count": 17,
     "metadata": {},
     "output_type": "execute_result"
    }
   ],
   "source": [
    "bank_partial[\"education\"] = bank_partial[\"education\"].replace([\"unknown\",\"illiterate\"],\"uneducated\")\n",
    "bank_partial[\"education\"].value_counts()"
   ]
  },
  {
   "cell_type": "code",
   "execution_count": 18,
   "metadata": {},
   "outputs": [
    {
     "data": {
      "text/html": [
       "<div>\n",
       "<style scoped>\n",
       "    .dataframe tbody tr th:only-of-type {\n",
       "        vertical-align: middle;\n",
       "    }\n",
       "\n",
       "    .dataframe tbody tr th {\n",
       "        vertical-align: top;\n",
       "    }\n",
       "\n",
       "    .dataframe thead th {\n",
       "        text-align: right;\n",
       "    }\n",
       "</style>\n",
       "<table border=\"1\" class=\"dataframe\">\n",
       "  <thead>\n",
       "    <tr style=\"text-align: right;\">\n",
       "      <th></th>\n",
       "      <th>y</th>\n",
       "    </tr>\n",
       "    <tr>\n",
       "      <th>education</th>\n",
       "      <th></th>\n",
       "    </tr>\n",
       "  </thead>\n",
       "  <tbody>\n",
       "    <tr>\n",
       "      <th>basic.9y</th>\n",
       "      <td>0.073944</td>\n",
       "    </tr>\n",
       "    <tr>\n",
       "      <th>basic.6y</th>\n",
       "      <td>0.074890</td>\n",
       "    </tr>\n",
       "    <tr>\n",
       "      <th>basic.4y</th>\n",
       "      <td>0.088517</td>\n",
       "    </tr>\n",
       "    <tr>\n",
       "      <th>high.school</th>\n",
       "      <td>0.106360</td>\n",
       "    </tr>\n",
       "    <tr>\n",
       "      <th>professional.course</th>\n",
       "      <td>0.121951</td>\n",
       "    </tr>\n",
       "    <tr>\n",
       "      <th>university.degree</th>\n",
       "      <td>0.130573</td>\n",
       "    </tr>\n",
       "    <tr>\n",
       "      <th>uneducated</th>\n",
       "      <td>0.154839</td>\n",
       "    </tr>\n",
       "  </tbody>\n",
       "</table>\n",
       "</div>"
      ],
      "text/plain": [
       "                            y\n",
       "education                    \n",
       "basic.9y             0.073944\n",
       "basic.6y             0.074890\n",
       "basic.4y             0.088517\n",
       "high.school          0.106360\n",
       "professional.course  0.121951\n",
       "university.degree    0.130573\n",
       "uneducated           0.154839"
      ]
     },
     "execution_count": 18,
     "metadata": {},
     "output_type": "execute_result"
    }
   ],
   "source": [
    "# Pivot table to see how subscription rates vary with education level\n",
    "pd.pivot_table(bank_partial,values=\"y\",index=\"education\").sort_values(\"y\")"
   ]
  },
  {
   "cell_type": "markdown",
   "metadata": {},
   "source": [
    "Surprisingly, while proportion subscribed to term deposits is almost directly correlated to education level, our \"uneducated\" column has the highest rate of subscription to term deposits. This does not necessarily mean our assumption of grouping these values together was incorrect, but it's possible our label is not accurate. On the other hand, if a primary reason for skipping formal education is to immediately go to work in a family trade (such as farming), it may not be surprising that this group has the financial freedom to subscribe to a term deposit.\n",
    "\n",
    "*After development, the models were run with all 'unknown' values in the education feature removed. It was found this resulted in worse model performance.*"
   ]
  },
  {
   "cell_type": "markdown",
   "metadata": {},
   "source": [
    "*Default:* This parameter was a yes/no binary outcome. However, there is only 1 yes response and many unknowns. The lack of variance in the known values, and large amount of unknowns, suggest this parameter will not be useful to our model. Let's remove this entire feature."
   ]
  },
  {
   "cell_type": "code",
   "execution_count": 19,
   "metadata": {},
   "outputs": [
    {
     "data": {
      "text/plain": [
       "no         3284\n",
       "unknown     784\n",
       "yes           1\n",
       "Name: default, dtype: int64"
      ]
     },
     "execution_count": 19,
     "metadata": {},
     "output_type": "execute_result"
    }
   ],
   "source": [
    "bank_partial[\"default\"].value_counts()"
   ]
  },
  {
   "cell_type": "code",
   "execution_count": 20,
   "metadata": {},
   "outputs": [],
   "source": [
    "bank_partial = bank_partial.drop(\"default\",axis=1)"
   ]
  },
  {
   "cell_type": "markdown",
   "metadata": {},
   "source": [
    "*Housing:* The housing feature is a binary yes/no variable with 105 missing responses. It appears that the following \"Loan\" feature is missing responses from the same 105 respondants. Let's eliminate these variables, to improve the predictive power of the model when the bank can select who they target based on having all information available. With the missing values removed, we can convert this from \"yes\"/\"no\" to a binary 1/0."
   ]
  },
  {
   "cell_type": "code",
   "execution_count": 21,
   "metadata": {
    "scrolled": true
   },
   "outputs": [
    {
     "data": {
      "text/plain": [
       "yes        2148\n",
       "no         1816\n",
       "unknown     105\n",
       "Name: housing, dtype: int64"
      ]
     },
     "execution_count": 21,
     "metadata": {},
     "output_type": "execute_result"
    }
   ],
   "source": [
    "bank_partial[\"housing\"].value_counts()"
   ]
  },
  {
   "cell_type": "code",
   "execution_count": 22,
   "metadata": {},
   "outputs": [
    {
     "data": {
      "text/plain": [
       "no         3308\n",
       "yes         656\n",
       "unknown     105\n",
       "Name: loan, dtype: int64"
      ]
     },
     "execution_count": 22,
     "metadata": {},
     "output_type": "execute_result"
    }
   ],
   "source": [
    "bank_partial[\"loan\"].value_counts()"
   ]
  },
  {
   "cell_type": "code",
   "execution_count": 23,
   "metadata": {},
   "outputs": [],
   "source": [
    "bank_partial = bank_partial[bank_partial[\"housing\"] != \"unknown\"]\n",
    "bank_partial[\"housing\"] = bank_partial[\"housing\"].replace([\"yes\",\"no\"],[1,0])"
   ]
  },
  {
   "cell_type": "markdown",
   "metadata": {},
   "source": [
    "*Loan:* With the cases having missing values for \"housing\" removed, there are no remaining missing values for \"loan\". Let's convert this from a binary \"yes\"/\"no\" to 1/0."
   ]
  },
  {
   "cell_type": "code",
   "execution_count": 24,
   "metadata": {},
   "outputs": [],
   "source": [
    "bank_partial[\"loan\"] = bank_partial[\"loan\"].replace([\"yes\",\"no\"],[1,0])"
   ]
  },
  {
   "cell_type": "markdown",
   "metadata": {},
   "source": [
    "*Contact:* This binary outcome variable will be changed from cellular/telephone to 1/0 to accomodate models that don't support mixed data types."
   ]
  },
  {
   "cell_type": "code",
   "execution_count": 25,
   "metadata": {},
   "outputs": [
    {
     "data": {
      "text/plain": [
       "cellular     2562\n",
       "telephone    1402\n",
       "Name: contact, dtype: int64"
      ]
     },
     "execution_count": 25,
     "metadata": {},
     "output_type": "execute_result"
    }
   ],
   "source": [
    "bank_partial[\"contact\"].value_counts()"
   ]
  },
  {
   "cell_type": "code",
   "execution_count": 26,
   "metadata": {},
   "outputs": [],
   "source": [
    "bank_partial[\"contact\"] = bank_partial[\"contact\"].replace([\"cellular\",\"telephone\"],[1,0])"
   ]
  },
  {
   "cell_type": "markdown",
   "metadata": {},
   "source": [
    "*Month:* This a difficult feature as we are missing data for January and February. It appears that the campaign did not run in these months. The large volume of calls over the summer months, shown below, suggests that this is when most of the campaigning was done. However, looking at the bar plot below suggests subscription rates were significantly higher in the months with much fewer clients contacted. This may suggest that the summer saw targeted outgoing calls, where in the winter months they advertised only to customers that called in. Unfortunately, it is impossible to distinguish between these two forms of contact with the current data set. For now, we'll leave this parameter in our model, but it might be best to exclude given this imbalance and lack of knowledge on the data collection parameters.\n",
    "\n",
    "*Following model development, running the models without the month feature resulted in worse performance.*"
   ]
  },
  {
   "cell_type": "code",
   "execution_count": 27,
   "metadata": {
    "scrolled": false
   },
   "outputs": [
    {
     "data": {
      "text/plain": [
       "<matplotlib.legend.Legend at 0x2410192a198>"
      ]
     },
     "execution_count": 27,
     "metadata": {},
     "output_type": "execute_result"
    },
    {
     "data": {
      "image/png": "[encoded data removed]",
      "text/plain": [
       "<Figure size 432x288 with 1 Axes>"
      ]
     },
     "metadata": {
      "needs_background": "light"
     },
     "output_type": "display_data"
    }
   ],
   "source": [
    "# Ordering the 'month' feature by chronological month order\n",
    "months = bank_partial[\"month\"].value_counts()\n",
    "labels = [\"mar\",\"apr\",\"may\",\"jun\",\"jul\",\"aug\",\"sep\",\"oct\",\"nov\",\"dec\"]\n",
    "months = months[labels]\n",
    "#sales_rate = pd.pivot_table(bank_partial,values=\"y\",index=\"month\").loc[labels][\"y\"]\n",
    "sales_count = pd.pivot_table(bank_partial,values=\"y\",index=\"month\",aggfunc=sum).loc[labels][\"y\"]\n",
    "\n",
    "barWidth = 0.4\n",
    "x1 = np.arange(len(labels))\n",
    "x2 = [x + barWidth for x in x1]\n",
    "\n",
    "# Plotting fraction of total calls vs fraction of total subscriptions by month\n",
    "plt.bar(x1,months/months.sum(),width=barWidth,label='Fraction of total clients')\n",
    "plt.bar(x2,sales_count/sales_count.sum(),width=barWidth,color='red',label='Fraction of total subscriptions')\n",
    "plt.xticks([r+barWidth for r in range(len(labels))], labels)\n",
    "plt.ylabel('Proportion')\n",
    "plt.title('Contact rate vs. Success rate')\n",
    "plt.legend()"
   ]
  },
  {
   "cell_type": "markdown",
   "metadata": {},
   "source": [
    "*Day of week:* The days on which clients were contacted and the proportion of which agreed to term deposits were approximately uniform distributions. These won't contribute much to our model, and thus, this feature is being omitted for efficiency.\n",
    "\n",
    "*After model development, this parameter was included to assess impact on performance. Inclusion of this parameter resulted in worse model performance, as predicted, and was thus left omitted from the final model.*"
   ]
  },
  {
   "cell_type": "code",
   "execution_count": 28,
   "metadata": {},
   "outputs": [
    {
     "data": {
      "text/plain": [
       "mon    826\n",
       "thu    824\n",
       "tue    804\n",
       "wed    771\n",
       "fri    739\n",
       "Name: day_of_week, dtype: int64"
      ]
     },
     "execution_count": 28,
     "metadata": {},
     "output_type": "execute_result"
    }
   ],
   "source": [
    "bank_partial[\"day_of_week\"].value_counts()"
   ]
  },
  {
   "cell_type": "code",
   "execution_count": 29,
   "metadata": {
    "scrolled": true
   },
   "outputs": [
    {
     "data": {
      "text/html": [
       "<div>\n",
       "<style scoped>\n",
       "    .dataframe tbody tr th:only-of-type {\n",
       "        vertical-align: middle;\n",
       "    }\n",
       "\n",
       "    .dataframe tbody tr th {\n",
       "        vertical-align: top;\n",
       "    }\n",
       "\n",
       "    .dataframe thead th {\n",
       "        text-align: right;\n",
       "    }\n",
       "</style>\n",
       "<table border=\"1\" class=\"dataframe\">\n",
       "  <thead>\n",
       "    <tr style=\"text-align: right;\">\n",
       "      <th></th>\n",
       "      <th>y</th>\n",
       "    </tr>\n",
       "    <tr>\n",
       "      <th>day_of_week</th>\n",
       "      <th></th>\n",
       "    </tr>\n",
       "  </thead>\n",
       "  <tbody>\n",
       "    <tr>\n",
       "      <th>fri</th>\n",
       "      <td>0.110961</td>\n",
       "    </tr>\n",
       "    <tr>\n",
       "      <th>mon</th>\n",
       "      <td>0.118644</td>\n",
       "    </tr>\n",
       "    <tr>\n",
       "      <th>thu</th>\n",
       "      <td>0.108010</td>\n",
       "    </tr>\n",
       "    <tr>\n",
       "      <th>tue</th>\n",
       "      <td>0.109453</td>\n",
       "    </tr>\n",
       "    <tr>\n",
       "      <th>wed</th>\n",
       "      <td>0.103761</td>\n",
       "    </tr>\n",
       "  </tbody>\n",
       "</table>\n",
       "</div>"
      ],
      "text/plain": [
       "                    y\n",
       "day_of_week          \n",
       "fri          0.110961\n",
       "mon          0.118644\n",
       "thu          0.108010\n",
       "tue          0.109453\n",
       "wed          0.103761"
      ]
     },
     "execution_count": 29,
     "metadata": {},
     "output_type": "execute_result"
    }
   ],
   "source": [
    "# Pivot table to show subscription rates by day of week\n",
    "pd.pivot_table(bank_partial,values=\"y\",index=\"day_of_week\")"
   ]
  },
  {
   "cell_type": "code",
   "execution_count": 30,
   "metadata": {},
   "outputs": [],
   "source": [
    "bank_partial = bank_partial.drop(\"day_of_week\", axis=1)"
   ]
  },
  {
   "cell_type": "markdown",
   "metadata": {},
   "source": [
    "*emp.var.rate, cons.price.idx, cons.conf.idx, euribor3m, nr.employed:* These five economic indices will be included because they all characterize different aspects of the economy, which has singificant influence on consumer willingness to subscribe to term deposits. All will be standardized (along with the 'age' feature) using a Standard Scaler."
   ]
  },
  {
   "cell_type": "code",
   "execution_count": 31,
   "metadata": {},
   "outputs": [
    {
     "data": {
      "text/html": [
       "<div>\n",
       "<style scoped>\n",
       "    .dataframe tbody tr th:only-of-type {\n",
       "        vertical-align: middle;\n",
       "    }\n",
       "\n",
       "    .dataframe tbody tr th {\n",
       "        vertical-align: top;\n",
       "    }\n",
       "\n",
       "    .dataframe thead th {\n",
       "        text-align: right;\n",
       "    }\n",
       "</style>\n",
       "<table border=\"1\" class=\"dataframe\">\n",
       "  <thead>\n",
       "    <tr style=\"text-align: right;\">\n",
       "      <th></th>\n",
       "      <th>age</th>\n",
       "      <th>job</th>\n",
       "      <th>marital</th>\n",
       "      <th>education</th>\n",
       "      <th>housing</th>\n",
       "      <th>loan</th>\n",
       "      <th>contact</th>\n",
       "      <th>month</th>\n",
       "      <th>poutcome</th>\n",
       "      <th>emp.var.rate</th>\n",
       "      <th>cons.price.idx</th>\n",
       "      <th>cons.conf.idx</th>\n",
       "      <th>euribor3m</th>\n",
       "      <th>nr.employed</th>\n",
       "      <th>y</th>\n",
       "    </tr>\n",
       "  </thead>\n",
       "  <tbody>\n",
       "    <tr>\n",
       "      <th>0</th>\n",
       "      <td>-0.975467</td>\n",
       "      <td>blue-collar</td>\n",
       "      <td>married</td>\n",
       "      <td>basic.9y</td>\n",
       "      <td>1</td>\n",
       "      <td>0</td>\n",
       "      <td>1</td>\n",
       "      <td>may</td>\n",
       "      <td>nonexistent</td>\n",
       "      <td>-1.202374</td>\n",
       "      <td>-1.178963</td>\n",
       "      <td>-1.231754</td>\n",
       "      <td>-1.326774</td>\n",
       "      <td>-0.910606</td>\n",
       "      <td>0</td>\n",
       "    </tr>\n",
       "    <tr>\n",
       "      <th>1</th>\n",
       "      <td>-0.102524</td>\n",
       "      <td>services</td>\n",
       "      <td>single</td>\n",
       "      <td>high.school</td>\n",
       "      <td>0</td>\n",
       "      <td>0</td>\n",
       "      <td>0</td>\n",
       "      <td>may</td>\n",
       "      <td>nonexistent</td>\n",
       "      <td>0.653602</td>\n",
       "      <td>0.717707</td>\n",
       "      <td>0.894988</td>\n",
       "      <td>0.715234</td>\n",
       "      <td>0.335597</td>\n",
       "      <td>0</td>\n",
       "    </tr>\n",
       "    <tr>\n",
       "      <th>2</th>\n",
       "      <td>-1.460436</td>\n",
       "      <td>services</td>\n",
       "      <td>married</td>\n",
       "      <td>high.school</td>\n",
       "      <td>1</td>\n",
       "      <td>0</td>\n",
       "      <td>0</td>\n",
       "      <td>jun</td>\n",
       "      <td>nonexistent</td>\n",
       "      <td>0.845600</td>\n",
       "      <td>1.529089</td>\n",
       "      <td>-0.276891</td>\n",
       "      <td>0.776921</td>\n",
       "      <td>0.838688</td>\n",
       "      <td>0</td>\n",
       "    </tr>\n",
       "    <tr>\n",
       "      <th>4</th>\n",
       "      <td>0.673426</td>\n",
       "      <td>admin.</td>\n",
       "      <td>married</td>\n",
       "      <td>university.degree</td>\n",
       "      <td>1</td>\n",
       "      <td>0</td>\n",
       "      <td>1</td>\n",
       "      <td>nov</td>\n",
       "      <td>nonexistent</td>\n",
       "      <td>-0.114388</td>\n",
       "      <td>-0.650101</td>\n",
       "      <td>-0.320293</td>\n",
       "      <td>0.332430</td>\n",
       "      <td>0.400687</td>\n",
       "      <td>0</td>\n",
       "    </tr>\n",
       "    <tr>\n",
       "      <th>5</th>\n",
       "      <td>-0.781480</td>\n",
       "      <td>services</td>\n",
       "      <td>single</td>\n",
       "      <td>university.degree</td>\n",
       "      <td>0</td>\n",
       "      <td>0</td>\n",
       "      <td>1</td>\n",
       "      <td>sep</td>\n",
       "      <td>failure</td>\n",
       "      <td>-0.754380</td>\n",
       "      <td>1.070856</td>\n",
       "      <td>0.656272</td>\n",
       "      <td>-1.574098</td>\n",
       "      <td>-2.748042</td>\n",
       "      <td>0</td>\n",
       "    </tr>\n",
       "  </tbody>\n",
       "</table>\n",
       "</div>"
      ],
      "text/plain": [
       "        age          job  marital          education  housing  loan  contact  \\\n",
       "0 -0.975467  blue-collar  married           basic.9y        1     0        1   \n",
       "1 -0.102524     services   single        high.school        0     0        0   \n",
       "2 -1.460436     services  married        high.school        1     0        0   \n",
       "4  0.673426       admin.  married  university.degree        1     0        1   \n",
       "5 -0.781480     services   single  university.degree        0     0        1   \n",
       "\n",
       "  month     poutcome  emp.var.rate  cons.price.idx  cons.conf.idx  euribor3m  \\\n",
       "0   may  nonexistent     -1.202374       -1.178963      -1.231754  -1.326774   \n",
       "1   may  nonexistent      0.653602        0.717707       0.894988   0.715234   \n",
       "2   jun  nonexistent      0.845600        1.529089      -0.276891   0.776921   \n",
       "4   nov  nonexistent     -0.114388       -0.650101      -0.320293   0.332430   \n",
       "5   sep      failure     -0.754380        1.070856       0.656272  -1.574098   \n",
       "\n",
       "   nr.employed  y  \n",
       "0    -0.910606  0  \n",
       "1     0.335597  0  \n",
       "2     0.838688  0  \n",
       "4     0.400687  0  \n",
       "5    -2.748042  0  "
      ]
     },
     "execution_count": 31,
     "metadata": {},
     "output_type": "execute_result"
    }
   ],
   "source": [
    "# Scaling our continuous, numerical data with a Standard Scaler\n",
    "from sklearn.preprocessing import StandardScaler\n",
    "scale_features = [\"age\",\"emp.var.rate\", \"cons.price.idx\", \"cons.conf.idx\", \"euribor3m\", \"nr.employed\"]\n",
    "scaler = StandardScaler()\n",
    "scaler.fit(bank_partial[scale_features].astype('float64'))\n",
    "bank_partial[scale_features] = scaler.transform(bank_partial[scale_features])\n",
    "\n",
    "# Confirm scaling on variables\n",
    "bank_partial.head()"
   ]
  },
  {
   "cell_type": "markdown",
   "metadata": {},
   "source": [
    "With our feature columns cleaned and refined, the last step before model development was to convert categorical columns into numerical columns with dummy variables. The columns we need to transform are \"job\", \"marital\", \"education\", \"month\", and \"poutcome\". For all of these features except for \"month\" we will generate k-1 dummies. \"month\" will receive k dummies because we do not wish to confuse the kth month with January or February, which are absent in our model."
   ]
  },
  {
   "cell_type": "code",
   "execution_count": 32,
   "metadata": {},
   "outputs": [
    {
     "data": {
      "text/html": [
       "<div>\n",
       "<style scoped>\n",
       "    .dataframe tbody tr th:only-of-type {\n",
       "        vertical-align: middle;\n",
       "    }\n",
       "\n",
       "    .dataframe tbody tr th {\n",
       "        vertical-align: top;\n",
       "    }\n",
       "\n",
       "    .dataframe thead th {\n",
       "        text-align: right;\n",
       "    }\n",
       "</style>\n",
       "<table border=\"1\" class=\"dataframe\">\n",
       "  <thead>\n",
       "    <tr style=\"text-align: right;\">\n",
       "      <th></th>\n",
       "      <th>age</th>\n",
       "      <th>housing</th>\n",
       "      <th>loan</th>\n",
       "      <th>contact</th>\n",
       "      <th>emp.var.rate</th>\n",
       "      <th>cons.price.idx</th>\n",
       "      <th>cons.conf.idx</th>\n",
       "      <th>euribor3m</th>\n",
       "      <th>nr.employed</th>\n",
       "      <th>y</th>\n",
       "      <th>...</th>\n",
       "      <th>apr</th>\n",
       "      <th>aug</th>\n",
       "      <th>dec</th>\n",
       "      <th>jul</th>\n",
       "      <th>jun</th>\n",
       "      <th>mar</th>\n",
       "      <th>may</th>\n",
       "      <th>nov</th>\n",
       "      <th>oct</th>\n",
       "      <th>sep</th>\n",
       "    </tr>\n",
       "  </thead>\n",
       "  <tbody>\n",
       "    <tr>\n",
       "      <th>0</th>\n",
       "      <td>-0.975467</td>\n",
       "      <td>1</td>\n",
       "      <td>0</td>\n",
       "      <td>1</td>\n",
       "      <td>-1.202374</td>\n",
       "      <td>-1.178963</td>\n",
       "      <td>-1.231754</td>\n",
       "      <td>-1.326774</td>\n",
       "      <td>-0.910606</td>\n",
       "      <td>0</td>\n",
       "      <td>...</td>\n",
       "      <td>0</td>\n",
       "      <td>0</td>\n",
       "      <td>0</td>\n",
       "      <td>0</td>\n",
       "      <td>0</td>\n",
       "      <td>0</td>\n",
       "      <td>1</td>\n",
       "      <td>0</td>\n",
       "      <td>0</td>\n",
       "      <td>0</td>\n",
       "    </tr>\n",
       "    <tr>\n",
       "      <th>1</th>\n",
       "      <td>-0.102524</td>\n",
       "      <td>0</td>\n",
       "      <td>0</td>\n",
       "      <td>0</td>\n",
       "      <td>0.653602</td>\n",
       "      <td>0.717707</td>\n",
       "      <td>0.894988</td>\n",
       "      <td>0.715234</td>\n",
       "      <td>0.335597</td>\n",
       "      <td>0</td>\n",
       "      <td>...</td>\n",
       "      <td>0</td>\n",
       "      <td>0</td>\n",
       "      <td>0</td>\n",
       "      <td>0</td>\n",
       "      <td>0</td>\n",
       "      <td>0</td>\n",
       "      <td>1</td>\n",
       "      <td>0</td>\n",
       "      <td>0</td>\n",
       "      <td>0</td>\n",
       "    </tr>\n",
       "    <tr>\n",
       "      <th>2</th>\n",
       "      <td>-1.460436</td>\n",
       "      <td>1</td>\n",
       "      <td>0</td>\n",
       "      <td>0</td>\n",
       "      <td>0.845600</td>\n",
       "      <td>1.529089</td>\n",
       "      <td>-0.276891</td>\n",
       "      <td>0.776921</td>\n",
       "      <td>0.838688</td>\n",
       "      <td>0</td>\n",
       "      <td>...</td>\n",
       "      <td>0</td>\n",
       "      <td>0</td>\n",
       "      <td>0</td>\n",
       "      <td>0</td>\n",
       "      <td>1</td>\n",
       "      <td>0</td>\n",
       "      <td>0</td>\n",
       "      <td>0</td>\n",
       "      <td>0</td>\n",
       "      <td>0</td>\n",
       "    </tr>\n",
       "    <tr>\n",
       "      <th>4</th>\n",
       "      <td>0.673426</td>\n",
       "      <td>1</td>\n",
       "      <td>0</td>\n",
       "      <td>1</td>\n",
       "      <td>-0.114388</td>\n",
       "      <td>-0.650101</td>\n",
       "      <td>-0.320293</td>\n",
       "      <td>0.332430</td>\n",
       "      <td>0.400687</td>\n",
       "      <td>0</td>\n",
       "      <td>...</td>\n",
       "      <td>0</td>\n",
       "      <td>0</td>\n",
       "      <td>0</td>\n",
       "      <td>0</td>\n",
       "      <td>0</td>\n",
       "      <td>0</td>\n",
       "      <td>0</td>\n",
       "      <td>1</td>\n",
       "      <td>0</td>\n",
       "      <td>0</td>\n",
       "    </tr>\n",
       "    <tr>\n",
       "      <th>5</th>\n",
       "      <td>-0.781480</td>\n",
       "      <td>0</td>\n",
       "      <td>0</td>\n",
       "      <td>1</td>\n",
       "      <td>-0.754380</td>\n",
       "      <td>1.070856</td>\n",
       "      <td>0.656272</td>\n",
       "      <td>-1.574098</td>\n",
       "      <td>-2.748042</td>\n",
       "      <td>0</td>\n",
       "      <td>...</td>\n",
       "      <td>0</td>\n",
       "      <td>0</td>\n",
       "      <td>0</td>\n",
       "      <td>0</td>\n",
       "      <td>0</td>\n",
       "      <td>0</td>\n",
       "      <td>0</td>\n",
       "      <td>0</td>\n",
       "      <td>0</td>\n",
       "      <td>1</td>\n",
       "    </tr>\n",
       "    <tr>\n",
       "      <th>6</th>\n",
       "      <td>-0.781480</td>\n",
       "      <td>1</td>\n",
       "      <td>0</td>\n",
       "      <td>1</td>\n",
       "      <td>-0.754380</td>\n",
       "      <td>1.070856</td>\n",
       "      <td>0.656272</td>\n",
       "      <td>-1.576980</td>\n",
       "      <td>-2.748042</td>\n",
       "      <td>0</td>\n",
       "      <td>...</td>\n",
       "      <td>0</td>\n",
       "      <td>0</td>\n",
       "      <td>0</td>\n",
       "      <td>0</td>\n",
       "      <td>0</td>\n",
       "      <td>0</td>\n",
       "      <td>0</td>\n",
       "      <td>0</td>\n",
       "      <td>0</td>\n",
       "      <td>1</td>\n",
       "    </tr>\n",
       "    <tr>\n",
       "      <th>7</th>\n",
       "      <td>0.091464</td>\n",
       "      <td>1</td>\n",
       "      <td>0</td>\n",
       "      <td>1</td>\n",
       "      <td>-0.114388</td>\n",
       "      <td>-0.650101</td>\n",
       "      <td>-0.320293</td>\n",
       "      <td>0.332430</td>\n",
       "      <td>0.400687</td>\n",
       "      <td>0</td>\n",
       "      <td>...</td>\n",
       "      <td>0</td>\n",
       "      <td>0</td>\n",
       "      <td>0</td>\n",
       "      <td>0</td>\n",
       "      <td>0</td>\n",
       "      <td>0</td>\n",
       "      <td>0</td>\n",
       "      <td>1</td>\n",
       "      <td>0</td>\n",
       "      <td>0</td>\n",
       "    </tr>\n",
       "    <tr>\n",
       "      <th>8</th>\n",
       "      <td>-0.878474</td>\n",
       "      <td>0</td>\n",
       "      <td>0</td>\n",
       "      <td>1</td>\n",
       "      <td>-0.114388</td>\n",
       "      <td>-0.650101</td>\n",
       "      <td>-0.320293</td>\n",
       "      <td>0.310522</td>\n",
       "      <td>0.400687</td>\n",
       "      <td>0</td>\n",
       "      <td>...</td>\n",
       "      <td>0</td>\n",
       "      <td>0</td>\n",
       "      <td>0</td>\n",
       "      <td>0</td>\n",
       "      <td>0</td>\n",
       "      <td>0</td>\n",
       "      <td>0</td>\n",
       "      <td>1</td>\n",
       "      <td>0</td>\n",
       "      <td>0</td>\n",
       "    </tr>\n",
       "    <tr>\n",
       "      <th>9</th>\n",
       "      <td>-0.490499</td>\n",
       "      <td>0</td>\n",
       "      <td>0</td>\n",
       "      <td>0</td>\n",
       "      <td>0.653602</td>\n",
       "      <td>0.717707</td>\n",
       "      <td>0.894988</td>\n",
       "      <td>0.715234</td>\n",
       "      <td>0.335597</td>\n",
       "      <td>0</td>\n",
       "      <td>...</td>\n",
       "      <td>0</td>\n",
       "      <td>0</td>\n",
       "      <td>0</td>\n",
       "      <td>0</td>\n",
       "      <td>0</td>\n",
       "      <td>0</td>\n",
       "      <td>1</td>\n",
       "      <td>0</td>\n",
       "      <td>0</td>\n",
       "      <td>0</td>\n",
       "    </tr>\n",
       "    <tr>\n",
       "      <th>10</th>\n",
       "      <td>-1.460436</td>\n",
       "      <td>1</td>\n",
       "      <td>0</td>\n",
       "      <td>1</td>\n",
       "      <td>0.845600</td>\n",
       "      <td>0.586783</td>\n",
       "      <td>-0.472204</td>\n",
       "      <td>0.774615</td>\n",
       "      <td>0.838688</td>\n",
       "      <td>0</td>\n",
       "      <td>...</td>\n",
       "      <td>0</td>\n",
       "      <td>0</td>\n",
       "      <td>0</td>\n",
       "      <td>1</td>\n",
       "      <td>0</td>\n",
       "      <td>0</td>\n",
       "      <td>0</td>\n",
       "      <td>0</td>\n",
       "      <td>0</td>\n",
       "      <td>0</td>\n",
       "    </tr>\n",
       "  </tbody>\n",
       "</table>\n",
       "<p>10 rows × 40 columns</p>\n",
       "</div>"
      ],
      "text/plain": [
       "         age  housing  loan  contact  emp.var.rate  cons.price.idx  \\\n",
       "0  -0.975467        1     0        1     -1.202374       -1.178963   \n",
       "1  -0.102524        0     0        0      0.653602        0.717707   \n",
       "2  -1.460436        1     0        0      0.845600        1.529089   \n",
       "4   0.673426        1     0        1     -0.114388       -0.650101   \n",
       "5  -0.781480        0     0        1     -0.754380        1.070856   \n",
       "6  -0.781480        1     0        1     -0.754380        1.070856   \n",
       "7   0.091464        1     0        1     -0.114388       -0.650101   \n",
       "8  -0.878474        0     0        1     -0.114388       -0.650101   \n",
       "9  -0.490499        0     0        0      0.653602        0.717707   \n",
       "10 -1.460436        1     0        1      0.845600        0.586783   \n",
       "\n",
       "    cons.conf.idx  euribor3m  nr.employed  y ...   apr  aug  dec  jul  jun  \\\n",
       "0       -1.231754  -1.326774    -0.910606  0 ...     0    0    0    0    0   \n",
       "1        0.894988   0.715234     0.335597  0 ...     0    0    0    0    0   \n",
       "2       -0.276891   0.776921     0.838688  0 ...     0    0    0    0    1   \n",
       "4       -0.320293   0.332430     0.400687  0 ...     0    0    0    0    0   \n",
       "5        0.656272  -1.574098    -2.748042  0 ...     0    0    0    0    0   \n",
       "6        0.656272  -1.576980    -2.748042  0 ...     0    0    0    0    0   \n",
       "7       -0.320293   0.332430     0.400687  0 ...     0    0    0    0    0   \n",
       "8       -0.320293   0.310522     0.400687  0 ...     0    0    0    0    0   \n",
       "9        0.894988   0.715234     0.335597  0 ...     0    0    0    0    0   \n",
       "10      -0.472204   0.774615     0.838688  0 ...     0    0    0    1    0   \n",
       "\n",
       "    mar  may  nov  oct  sep  \n",
       "0     0    1    0    0    0  \n",
       "1     0    1    0    0    0  \n",
       "2     0    0    0    0    0  \n",
       "4     0    0    1    0    0  \n",
       "5     0    0    0    0    1  \n",
       "6     0    0    0    0    1  \n",
       "7     0    0    1    0    0  \n",
       "8     0    0    1    0    0  \n",
       "9     0    1    0    0    0  \n",
       "10    0    0    0    0    0  \n",
       "\n",
       "[10 rows x 40 columns]"
      ]
     },
     "execution_count": 32,
     "metadata": {},
     "output_type": "execute_result"
    }
   ],
   "source": [
    "# Creating k-1 dummies for categorical variables and replacing original columns\n",
    "dummy_df = pd.get_dummies(bank_partial[[\"job\",\"marital\",\"education\",\"poutcome\"]],drop_first=True)\n",
    "bank_partial = pd.concat([bank_partial, dummy_df], axis=1)\n",
    "bank_partial = bank_partial.drop([\"job\",\"marital\",\"education\",\"poutcome\"], axis=1)\n",
    "\n",
    "# Creating k dummies for 'month' given its missing Jan. and Feb. data\n",
    "dummy_df = pd.get_dummies(bank_partial[\"month\"])\n",
    "bank_partial = pd.concat([bank_partial, dummy_df], axis=1)\n",
    "bank_partial = bank_partial.drop([\"month\"], axis=1)\n",
    "\n",
    "# Confirm complete data cleaning and feature transformation\n",
    "bank_partial.head(10)"
   ]
  },
  {
   "cell_type": "markdown",
   "metadata": {},
   "source": [
    "### Model Development\n",
    "Now that the features are cleaned and refined, we are ready to implement our models. In absence of a proper, separate test set of data, we will hold out a portion of the data for later model testing. These will be the last 600 points of our data set (approximately 15% of the total data). We are using the last 600 points instead of a random subset given the time dependence of this data. "
   ]
  },
  {
   "cell_type": "code",
   "execution_count": 33,
   "metadata": {},
   "outputs": [],
   "source": [
    "# Importing relevant machine learning classes and functions from sklearn\n",
    "from sklearn.linear_model import LogisticRegression\n",
    "from sklearn.model_selection import TimeSeriesSplit, GridSearchCV\n",
    "from sklearn.metrics import accuracy_score, classification_report, roc_auc_score, roc_curve, precision_recall_curve, average_precision_score, precision_score\n",
    "from sklearn.neural_network import MLPClassifier\n",
    "from sklearn.ensemble import RandomForestClassifier\n",
    "from sklearn.svm import SVC"
   ]
  },
  {
   "cell_type": "code",
   "execution_count": 34,
   "metadata": {},
   "outputs": [
    {
     "data": {
      "text/plain": [
       "(3964, 40)"
      ]
     },
     "execution_count": 34,
     "metadata": {},
     "output_type": "execute_result"
    }
   ],
   "source": [
    "# Let's break up our data into a training set and a validation set which will be set aside for later. We'll reserve 600 rows for testing.\n",
    "bank_partial.shape"
   ]
  },
  {
   "cell_type": "code",
   "execution_count": 35,
   "metadata": {},
   "outputs": [],
   "source": [
    "train_group = bank_partial.iloc[:3364,:] # This will be further split into training and validation sets for cross-validation\n",
    "holdout_group = bank_partial.iloc[3364:,:]  # To be withheld until the models have been trained and cross-validated"
   ]
  },
  {
   "cell_type": "markdown",
   "metadata": {},
   "source": [
    "### Cross-Validation and Best Model Identification\n",
    "Propensity for subscription to term deposits may change over time, so it would be inappropriate to randomly subdivide the training data for k-folds cross-validation, which assumes all cases are independent. Instead, we will look at two separate time series cross-validation approaches so our model can characterize the impact of previous economic trends on current willingness to subscribe to a term deposit. For both approaches, the training data was sub-divided into 5 training sets. This number was selected to allow each validation set to span a range longer than 3 months. Two of the economic indicators (emp.var.rate and nr.employed) were quarterly indices, so allowing the validation set to span multiple values of these parameters introduced needed variation for more robust model development.\n",
    "\n",
    "The first approach investigated was a sliding window approach, where the training set only included the 1000 cases immediately prior to the beginning of the validation set. This approach likely makes the model more sensitive to short term economic effects but blind to long-term effects. The training and validation sets for this approach are visualized below."
   ]
  },
  {
   "cell_type": "code",
   "execution_count": 36,
   "metadata": {},
   "outputs": [
    {
     "data": {
      "image/png": "[encoded data removed]",
      "text/plain": [
       "<Figure size 432x288 with 1 Axes>"
      ]
     },
     "metadata": {
      "needs_background": "light"
     },
     "output_type": "display_data"
    }
   ],
   "source": [
    "# Max train size defined to incorporate sliding window\n",
    "tss = TimeSeriesSplit(n_splits=5, max_train_size=1000)\n",
    "i=0\n",
    "\n",
    "# Visualizing the train and validation splits for the sliding window approach\n",
    "for train_index, test_index in tss.split(train_group):  \n",
    "    plt.plot(train_index,train_index-train_index+i, color='tab:blue', lw=5, label=\"Train\")\n",
    "    plt.plot(test_index,test_index-test_index+i, color='tab:orange', lw=5, label=\"Validation\")\n",
    "    plt.xlim([0,3500])\n",
    "    plt.xlabel('Index')\n",
    "    plt.ylabel('Split')\n",
    "    if i==0:\n",
    "        plt.legend(loc='lower right')\n",
    "    i += 1"
   ]
  },
  {
   "cell_type": "markdown",
   "metadata": {},
   "source": [
    "The second approach investigated was an expanding window approach, where the training set continually grew with each split to include all training data from previous splits. This approach may perform better at incorporating long-term economic trends. The training and validation sets for this approach are visualized below."
   ]
  },
  {
   "cell_type": "code",
   "execution_count": 37,
   "metadata": {},
   "outputs": [
    {
     "data": {
      "image/png": "[encoded data removed]",
      "text/plain": [
       "<Figure size 432x288 with 1 Axes>"
      ]
     },
     "metadata": {
      "needs_background": "light"
     },
     "output_type": "display_data"
    }
   ],
   "source": [
    "# Max train size has been excluded to allow for expanding training window with each split\n",
    "tss = TimeSeriesSplit(n_splits=5)\n",
    "i=0\n",
    "\n",
    "# Visualizing the train and validation splits for the expanding window approach\n",
    "for train_index, test_index in tss.split(train_group):  \n",
    "    plt.plot(train_index,train_index-train_index+i, color='tab:blue', lw=5, label=\"Train\")\n",
    "    plt.plot(test_index,test_index-test_index+i, color='tab:orange', lw=5, label=\"Validation\")\n",
    "    plt.xlim([0,3500])\n",
    "    plt.xlabel('Index')\n",
    "    plt.ylabel('Split')\n",
    "    if i==0:\n",
    "        plt.legend(loc='lower right')\n",
    "    i += 1"
   ]
  },
  {
   "cell_type": "markdown",
   "metadata": {},
   "source": [
    "For the sake of brevity and code efficiency, the comparison of performance between these two approaches is not included here. When compared, the expanding window approach obtained slightly higher scores than the sliding window approach, so that is the cross-validation approach that will be used for the forthcoming models.\n",
    "\n",
    "With our data splits established, we are ready to begin training models. A function was written to support cross-validation of multiple machine learning models for a supplied dataframe. Optimal models were found for logistic regression, neural networks, random forests, and SVMs. Optimal models were defined as those with the highest F1 score. F1 score was selected as the metric because it emphasizes models with both high precision and recall. For this predicative application, a high precision is desired to maximize efficiency of customer targeting. At the same time, we desire good recall to maximize the number of willing clients our model will identify.\n",
    "\n",
    "On top of these factors, other traditional scoring metrics such as accuracy or AUC for ROC are less useful when dealing with imbalanced data sets such as this one."
   ]
  },
  {
   "cell_type": "code",
   "execution_count": 38,
   "metadata": {},
   "outputs": [],
   "source": [
    "# Indicate relevant dependent and target features for modeling.\n",
    "features = list(train_group.columns.drop(\"y\"))\n",
    "target = \"y\""
   ]
  },
  {
   "cell_type": "code",
   "execution_count": 39,
   "metadata": {},
   "outputs": [],
   "source": [
    "# Occasionally the grid search will test out model parameters that results in an F1 score of 'nan'. These warnings are supressed here.\n",
    "import warnings\n",
    "import sklearn.exceptions\n",
    "warnings.filterwarnings(\"ignore\", category=sklearn.exceptions.UndefinedMetricWarning)\n",
    "\n",
    "# Function that accepts data frame, desired features, and target variable and performs cross-validation for\n",
    "# logistic regression, neural network, random forests, and SVM machine learning models.\n",
    "def select_models(df,features,target):\n",
    "\n",
    "    # List of dictionaries, each containing a model name,\n",
    "    # it's estimator and a dict of hyperparameters\n",
    "    models = [\n",
    "        {\n",
    "            \"name\": \"LogisticRegression\",\n",
    "            \"estimator\": LogisticRegression(),\n",
    "            \"hyperparameters\":\n",
    "                {\n",
    "                    \"solver\": [\"newton-cg\", \"lbfgs\", \"liblinear\"],\n",
    "                    \"class_weight\": [None,\"balanced\"],\n",
    "                    \"max_iter\": [1000],\n",
    "                    \"warm_start\": [True,False]\n",
    "                }\n",
    "        },\n",
    "        {\n",
    "            \"name\": \"MLPClassifier\",\n",
    "            \"estimator\": MLPClassifier(),\n",
    "            \"hyperparameters\":\n",
    "                {\n",
    "                    \"hidden_layer_sizes\": [(10,),(10,10),(20,)],\n",
    "                    \"max_iter\": [10000],\n",
    "                    \"warm_start\": [True,False]\n",
    "                }\n",
    "        },\n",
    "        {\n",
    "            \"name\": \"RandomForestClassifier\",\n",
    "            \"estimator\": RandomForestClassifier(),\n",
    "            \"hyperparameters\":\n",
    "                {\n",
    "                    \"n_estimators\": [10, 20, 30],\n",
    "                    \"criterion\": [\"entropy\", \"gini\"],\n",
    "                    \"max_depth\": [2, 5, 10],\n",
    "                    \"max_features\": [\"log2\", \"sqrt\"],\n",
    "                    \"min_samples_leaf\": [1, 5, 8],\n",
    "                    \"min_samples_split\": [2, 3, 5],\n",
    "                    \"warm_start\": [True,False]\n",
    "                }\n",
    "        },\n",
    "        {\n",
    "            \"name\": \"SVC\",\n",
    "            \"estimator\": SVC(),\n",
    "            \"hyperparameters\":\n",
    "                {\n",
    "                    \"kernel\": [\"linear\",\"poly\",\"rbf\",\"sigmoid\"],\n",
    "                    \"gamma\": ['auto','scale'],\n",
    "                    \"class_weight\": [None,\"balanced\"],\n",
    "                }\n",
    "        }\n",
    "    ]\n",
    "\n",
    "    # Returns relevant information for each best-performing model\n",
    "    for model in models:\n",
    "        print(model['name'])\n",
    "        print('-'*len(model['name']))\n",
    "\n",
    "        grid = GridSearchCV(model[\"estimator\"],\n",
    "                            param_grid=model[\"hyperparameters\"],\n",
    "                            scoring=['f1','roc_auc','average_precision'],\n",
    "                            refit='f1',\n",
    "                            cv=tss.split(df))\n",
    "        grid.fit(df[features],df[target])\n",
    "        model[\"best_params\"] = grid.best_params_\n",
    "        model[\"best_score\"] = grid.best_score_\n",
    "        model[\"best_model\"] = grid.best_estimator_\n",
    "        model[\"average_precision\"] = grid.cv_results_['mean_test_average_precision'][np.argmax(grid.cv_results_['mean_test_f1'])]\n",
    "        model[\"roc_auc\"] = grid.cv_results_['mean_test_roc_auc'][np.argmax(grid.cv_results_['mean_test_f1'])]\n",
    "\n",
    "        print(\"Best Model F1: {}\".format(model[\"best_score\"]))\n",
    "        print(\"Best Model Average Precision: {}\".format(model[\"average_precision\"]))\n",
    "        print(\"Best Model ROC AUC: {}\".format(model[\"roc_auc\"]))\n",
    "        print(\"Best Parameters: {}\\n\".format(model[\"best_params\"]))\n",
    "\n",
    "    return models"
   ]
  },
  {
   "cell_type": "markdown",
   "metadata": {},
   "source": [
    "To address the imbalanced output variable groups (only 10% of clients subscribed to a term deposit), models were developed for three variations of the data set:\n",
    "\n",
    "1. The original, imbalanced groups. No further alterations were made to the training set.\n",
    "2. A downsampled majority class (non-subscribers) to have the same number of clients as the minority class (subscribers). Majority class members were randomly deleted from the training set.\n",
    "3. An upsampled minority class (subscribers) to have the same number of clients as the majority class (non-subscribers). Minority class members were randomly sampled with replacement in the training set."
   ]
  },
  {
   "cell_type": "code",
   "execution_count": 40,
   "metadata": {
    "scrolled": true
   },
   "outputs": [
    {
     "name": "stdout",
     "output_type": "stream",
     "text": [
      "LogisticRegression\n",
      "------------------\n",
      "Best Model F1: 0.4045837505315485\n",
      "Best Model Average Precision: 0.37606857783921155\n",
      "Best Model ROC AUC: 0.730459834385954\n",
      "Best Parameters: {'class_weight': 'balanced', 'max_iter': 1000, 'solver': 'liblinear', 'warm_start': True}\n",
      "\n",
      "MLPClassifier\n",
      "-------------\n",
      "Best Model F1: 0.32296023587428496\n",
      "Best Model Average Precision: 0.30403366569539636\n",
      "Best Model ROC AUC: 0.622886102692685\n",
      "Best Parameters: {'hidden_layer_sizes': (10, 10), 'max_iter': 10000, 'warm_start': False}\n",
      "\n",
      "RandomForestClassifier\n",
      "----------------------\n",
      "Best Model F1: 0.32639029399378133\n",
      "Best Model Average Precision: 0.3877974394476363\n",
      "Best Model ROC AUC: 0.7254175912679937\n",
      "Best Parameters: {'criterion': 'gini', 'max_depth': 10, 'max_features': 'sqrt', 'min_samples_leaf': 1, 'min_samples_split': 5, 'n_estimators': 10, 'warm_start': False}\n",
      "\n",
      "SVC\n",
      "---\n",
      "Best Model F1: 0.45658118875793047\n",
      "Best Model Average Precision: 0.361223951571635\n",
      "Best Model ROC AUC: 0.7486621484393614\n",
      "Best Parameters: {'class_weight': 'balanced', 'gamma': 'auto', 'kernel': 'poly'}\n",
      "\n"
     ]
    }
   ],
   "source": [
    "# Find best models for imbalanced groups\n",
    "models = select_models(train_group, features, target)"
   ]
  },
  {
   "cell_type": "code",
   "execution_count": 41,
   "metadata": {},
   "outputs": [],
   "source": [
    "# Finding the best models when undersampling the majority class\n",
    "from sklearn.utils import resample\n",
    "\n",
    "train_subscribe = train_group[train_group[\"y\"] == 1]\n",
    "train_not_subscribe = train_group[train_group[\"y\"] == 0]\n",
    "not_subscribe_downsampled = resample(train_not_subscribe,\n",
    "                               replace=False,\n",
    "                               n_samples=len(train_subscribe) # match number in minority class\n",
    "                              )\n",
    "train_downsampled = pd.concat([not_subscribe_downsampled,train_subscribe])\n",
    "# Sort by index to return to chronological order\n",
    "train_downsampled = train_downsampled.sort_index()"
   ]
  },
  {
   "cell_type": "code",
   "execution_count": 42,
   "metadata": {
    "scrolled": true
   },
   "outputs": [
    {
     "name": "stdout",
     "output_type": "stream",
     "text": [
      "LogisticRegression\n",
      "------------------\n",
      "Best Model F1: 0.6449862970729222\n",
      "Best Model Average Precision: 0.7730018494522982\n",
      "Best Model ROC AUC: 0.7251742755950059\n",
      "Best Parameters: {'class_weight': 'balanced', 'max_iter': 1000, 'solver': 'liblinear', 'warm_start': True}\n",
      "\n",
      "MLPClassifier\n",
      "-------------\n",
      "Best Model F1: 0.6180664170931649\n",
      "Best Model Average Precision: 0.7144483216288877\n",
      "Best Model ROC AUC: 0.6790240790586151\n",
      "Best Parameters: {'hidden_layer_sizes': (10, 10), 'max_iter': 10000, 'warm_start': False}\n",
      "\n",
      "RandomForestClassifier\n",
      "----------------------\n",
      "Best Model F1: 0.6736750152782794\n",
      "Best Model Average Precision: 0.7493251229316694\n",
      "Best Model ROC AUC: 0.742557378976474\n",
      "Best Parameters: {'criterion': 'entropy', 'max_depth': 2, 'max_features': 'log2', 'min_samples_leaf': 5, 'min_samples_split': 2, 'n_estimators': 10, 'warm_start': True}\n",
      "\n",
      "SVC\n",
      "---\n",
      "Best Model F1: 0.6745019765118616\n",
      "Best Model Average Precision: 0.7805110564648441\n",
      "Best Model ROC AUC: 0.7387919942693825\n",
      "Best Parameters: {'class_weight': None, 'gamma': 'auto', 'kernel': 'sigmoid'}\n",
      "\n"
     ]
    }
   ],
   "source": [
    "models_downsampled = select_models(train_downsampled, features, target)"
   ]
  },
  {
   "cell_type": "code",
   "execution_count": 43,
   "metadata": {},
   "outputs": [],
   "source": [
    "# Finding the best models when upsampling the minority class\n",
    "from sklearn.utils import resample\n",
    "\n",
    "subscribe_upsampled = resample(train_subscribe,\n",
    "                               replace=True,\n",
    "                               n_samples=len(train_not_subscribe) # match number in minority class\n",
    "                              )\n",
    "train_upsampled = pd.concat([subscribe_upsampled,train_not_subscribe])\n",
    "# Sort by index to return to chronological order\n",
    "train_upsampled = train_upsampled.sort_index()"
   ]
  },
  {
   "cell_type": "code",
   "execution_count": 44,
   "metadata": {},
   "outputs": [
    {
     "name": "stdout",
     "output_type": "stream",
     "text": [
      "LogisticRegression\n",
      "------------------\n",
      "Best Model F1: 0.6341053743869519\n",
      "Best Model Average Precision: 0.756597018662392\n",
      "Best Model ROC AUC: 0.7219020771900491\n",
      "Best Parameters: {'class_weight': 'balanced', 'max_iter': 1000, 'solver': 'newton-cg', 'warm_start': True}\n",
      "\n",
      "MLPClassifier\n",
      "-------------\n",
      "Best Model F1: 0.4898922631985374\n",
      "Best Model Average Precision: 0.6918702887077824\n",
      "Best Model ROC AUC: 0.6497611533229085\n",
      "Best Parameters: {'hidden_layer_sizes': (10,), 'max_iter': 10000, 'warm_start': False}\n",
      "\n",
      "RandomForestClassifier\n",
      "----------------------\n",
      "Best Model F1: 0.6643493676971861\n",
      "Best Model Average Precision: 0.7690679170059124\n",
      "Best Model ROC AUC: 0.7421699288662049\n",
      "Best Parameters: {'criterion': 'gini', 'max_depth': 2, 'max_features': 'sqrt', 'min_samples_leaf': 8, 'min_samples_split': 5, 'n_estimators': 10, 'warm_start': False}\n",
      "\n",
      "SVC\n",
      "---\n",
      "Best Model F1: 0.6383701337945261\n",
      "Best Model Average Precision: 0.76110822677627\n",
      "Best Model ROC AUC: 0.7270889409104969\n",
      "Best Parameters: {'class_weight': 'balanced', 'gamma': 'auto', 'kernel': 'sigmoid'}\n",
      "\n"
     ]
    }
   ],
   "source": [
    "models_upsampled = select_models(train_upsampled, features, target)"
   ]
  },
  {
   "cell_type": "markdown",
   "metadata": {},
   "source": [
    "The resampled data sets resulted in higher F1 scores than the unbalanced data sets."
   ]
  },
  {
   "cell_type": "markdown",
   "metadata": {},
   "source": [
    "### Applying the Best Models to the Holdout Data\n",
    "To efficiently compare the performance of each sampling method on the held out test data, the top performing model for each sampling method was applied to the data. ROC curves and Precision-Recall curves were generated for each of these cases."
   ]
  },
  {
   "cell_type": "code",
   "execution_count": 45,
   "metadata": {},
   "outputs": [],
   "source": [
    "# Best model: Uneven groups\n",
    "prediction = models[3][\"best_model\"].decision_function(holdout_group[features])\n",
    "fpr,tpr,thresholds = roc_curve(holdout_group[target],prediction)\n",
    "auc = roc_auc_score(holdout_group[target],prediction)\n",
    "precision,recall,thresholds2 = precision_recall_curve(holdout_group[target],prediction)\n",
    "avg_prec = average_precision_score(holdout_group[target],prediction)\n",
    "\n",
    "# Best model: Downsampled minority group\n",
    "down_prediction = models_downsampled[3][\"best_model\"].decision_function(holdout_group[features])\n",
    "down_fpr,down_tpr,down_thresholds = roc_curve(holdout_group[target],down_prediction)\n",
    "down_auc = roc_auc_score(holdout_group[target],down_prediction)\n",
    "down_precision,down_recall,down_thresholds2 = precision_recall_curve(holdout_group[target],down_prediction)\n",
    "down_avg_prec = average_precision_score(holdout_group[target],down_prediction)\n",
    "\n",
    "# Best model: Upsampled minority group\n",
    "up_prediction = models_upsampled[2][\"best_model\"].predict_proba(holdout_group[features])[:,1]\n",
    "up_fpr,up_tpr,up_thresholds = roc_curve(holdout_group[target],up_prediction)\n",
    "up_auc = roc_auc_score(holdout_group[target],up_prediction)\n",
    "up_precision,up_recall,up_thresholds2 = precision_recall_curve(holdout_group[target],up_prediction)\n",
    "up_avg_prec = average_precision_score(holdout_group[target],up_prediction)"
   ]
  },
  {
   "cell_type": "code",
   "execution_count": 46,
   "metadata": {},
   "outputs": [
    {
     "data": {
      "text/plain": [
       "<matplotlib.legend.Legend at 0x241026262e8>"
      ]
     },
     "execution_count": 46,
     "metadata": {},
     "output_type": "execute_result"
    },
    {
     "data": {
      "image/png": "[encoded data removed]",
      "text/plain": [
       "<Figure size 1008x432 with 2 Axes>"
      ]
     },
     "metadata": {
      "needs_background": "light"
     },
     "output_type": "display_data"
    }
   ],
   "source": [
    "fig, (ax1, ax2) = plt.subplots(1, 2, figsize=(14,6))\n",
    "\n",
    "# Generate ROC Curves\n",
    "ax1.plot([0, 1], [0, 1], linestyle='--',lw=2,color='black')\n",
    "ax1.plot(fpr, tpr, lw=2, label='Unbalanced (AUC = %0.2f)' % auc)\n",
    "ax1.plot(down_fpr, down_tpr, lw=2, label='Downsampled (AUC = %0.2f)' % down_auc)\n",
    "ax1.plot(up_fpr, up_tpr, lw=2, label='Upsampled (AUC = %0.2f)' % up_auc)\n",
    "ax1.set_xlim([0,1])\n",
    "ax1.set_ylim([0,1])\n",
    "ax1.set_xlabel(\"False Positive Rate\")\n",
    "ax1.set_ylabel(\"True Positive Rate\")\n",
    "ax1.set_title(\"ROC Curves\")\n",
    "ax1.legend(loc=\"lower right\")\n",
    "\n",
    "# Generate Precision-Recall Curves\n",
    "\n",
    "# Include F1 score lines\n",
    "f_scores = np.linspace(0.2, 0.8, num=4)\n",
    "for f_score in f_scores:\n",
    "    x = np.linspace(0.01, 1)\n",
    "    y = f_score * x / (2 * x - f_score)\n",
    "    ax2.plot(x[y >= 0], y[y >= 0], color='gray', alpha=0.2)\n",
    "    ax2.annotate('f1={0:0.1f}'.format(f_score), xy=(0.9, y[45] + 0.02))\n",
    "\n",
    "ax2.plot(recall, precision, lw=2, label='Unbalanced (Avg. Precision = %0.2f)' % avg_prec)\n",
    "ax2.plot(down_recall, down_precision, lw=2, label='Downsampled (Avg. Precision = %0.2f)' % down_avg_prec)\n",
    "ax2.plot(up_recall, up_precision, lw=2, label='Upsampled (Avg. Precision = %0.2f)' % up_avg_prec)\n",
    "ax2.set_xlim([0,1])\n",
    "ax2.set_ylim([0,1])\n",
    "ax2.set_xlabel(\"Recall\")\n",
    "ax2.set_ylabel(\"Precision\")\n",
    "ax2.set_title(\"Precision-Recall Curves\")\n",
    "ax2.legend(loc=\"upper right\")"
   ]
  },
  {
   "cell_type": "markdown",
   "metadata": {},
   "source": [
    "### Sampling Selection\n",
    "It appeared that the unbalanced model has the best performance as displayed on the Precision-Recall curves. It is likely that the upsampled model overfit to the highly repeated rows while the downsampled model generalized poorly to the test data. As a result, we will focus on establishing the best model with the original, unbalanced data set for the rest of this work. Taking a look at all of the model performances for the unbalanced samples via ROC and Precision-Recall curves."
   ]
  },
  {
   "cell_type": "code",
   "execution_count": 47,
   "metadata": {},
   "outputs": [],
   "source": [
    "# Generating values for the ROC and Precision-Recall curves\n",
    "\n",
    "# Logistic regression model\n",
    "lr_prediction = models[0][\"best_model\"].predict_proba(holdout_group[features])[:,1]\n",
    "lr_fpr,lr_tpr,lr_thresholds = roc_curve(holdout_group[target],lr_prediction)\n",
    "lr_auc = roc_auc_score(holdout_group[target],lr_prediction)\n",
    "lr_precision,lr_recall,lr_thresholds2 = precision_recall_curve(holdout_group[target],lr_prediction)\n",
    "lr_avg_prec = average_precision_score(holdout_group[target],lr_prediction)\n",
    "\n",
    "# Neural network model\n",
    "nn_prediction = models[1][\"best_model\"].predict_proba(holdout_group[features])[:,1]\n",
    "nn_fpr,nn_tpr,nn_thresholds = roc_curve(holdout_group[target],nn_prediction)\n",
    "nn_auc = roc_auc_score(holdout_group[target],nn_prediction)\n",
    "nn_precision,nn_recall,nn_thresholds2 = precision_recall_curve(holdout_group[target],nn_prediction)\n",
    "nn_avg_prec = average_precision_score(holdout_group[target],nn_prediction)\n",
    "\n",
    "# Random Forest model\n",
    "rf_prediction = models[2][\"best_model\"].predict_proba(holdout_group[features])[:,1]\n",
    "rf_fpr,rf_tpr,rf_thresholds = roc_curve(holdout_group[target],rf_prediction)\n",
    "rf_auc = roc_auc_score(holdout_group[target],rf_prediction)\n",
    "rf_precision,rf_recall,rf_thresholds2 = precision_recall_curve(holdout_group[target],rf_prediction)\n",
    "rf_avg_prec = average_precision_score(holdout_group[target],rf_prediction)\n",
    "\n",
    "# SVM model\n",
    "svm_prediction = models[3][\"best_model\"].decision_function(holdout_group[features]) #not compatible with predict_proba\n",
    "svm_fpr,svm_tpr,svm_thresholds = roc_curve(holdout_group[target],svm_prediction)\n",
    "svm_auc = roc_auc_score(holdout_group[target],svm_prediction)\n",
    "svm_precision,svm_recall,svm_thresholds2 = precision_recall_curve(holdout_group[target],svm_prediction)\n",
    "svm_avg_prec = average_precision_score(holdout_group[target],svm_prediction)"
   ]
  },
  {
   "cell_type": "code",
   "execution_count": 48,
   "metadata": {},
   "outputs": [
    {
     "data": {
      "text/plain": [
       "<matplotlib.legend.Legend at 0x241026626d8>"
      ]
     },
     "execution_count": 48,
     "metadata": {},
     "output_type": "execute_result"
    },
    {
     "data": {
      "image/png": "[encoded data removed]",
      "text/plain": [
       "<Figure size 1008x432 with 2 Axes>"
      ]
     },
     "metadata": {
      "needs_background": "light"
     },
     "output_type": "display_data"
    }
   ],
   "source": [
    "fig, (ax1, ax2) = plt.subplots(1, 2, figsize=(14,6))\n",
    "\n",
    "# Generate ROC Curves\n",
    "ax1.plot([0, 1], [0, 1], linestyle='--',lw=2,color='black')\n",
    "ax1.plot(lr_fpr, lr_tpr, lw=2, label='LR (AUC = %0.2f)' % lr_auc)\n",
    "ax1.plot(nn_fpr, nn_tpr, lw=2, label='NN (AUC = %0.2f)' % nn_auc)\n",
    "ax1.plot(rf_fpr, rf_tpr, lw=2, label='RF (AUC = %0.2f)' % rf_auc)\n",
    "ax1.plot(svm_fpr, svm_tpr, lw=2, label='SVM (AUC = %0.2f)' % svm_auc)\n",
    "ax1.set_xlim([0,1])\n",
    "ax1.set_ylim([0,1])\n",
    "ax1.set_xlabel(\"False Positive Rate\")\n",
    "ax1.set_ylabel(\"True Positive Rate\")\n",
    "ax1.set_title(\"ROC Curves\")\n",
    "ax1.legend(loc=\"lower right\")\n",
    "\n",
    "# Generate Precision-Recall Curves\n",
    "\n",
    "f_scores = np.linspace(0.2, 0.8, num=4)\n",
    "for f_score in f_scores:\n",
    "    x = np.linspace(0.01, 1)\n",
    "    y = f_score * x / (2 * x - f_score)\n",
    "    ax2.plot(x[y >= 0], y[y >= 0], color='gray', alpha=0.2)\n",
    "    ax2.annotate('f1={0:0.1f}'.format(f_score), xy=(0.9, y[45] + 0.02))\n",
    "\n",
    "ax2.plot(lr_recall, lr_precision, lw=2, label='LR (Avg. Precision = %0.2f)' % lr_avg_prec)\n",
    "ax2.plot(nn_recall, nn_precision, lw=2, label='NN (Avg. Precision = %0.2f)' % nn_avg_prec)\n",
    "ax2.plot(rf_recall, rf_precision, lw=2, label='RF (Avg. Precision = %0.2f)' % rf_avg_prec)\n",
    "ax2.plot(svm_recall, svm_precision, lw=2, label='SVM (Avg. Precision = %0.2f)' % svm_avg_prec)\n",
    "ax2.set_xlim([0,1])\n",
    "ax2.set_ylim([0,1])\n",
    "ax2.set_xlabel(\"Recall\")\n",
    "ax2.set_ylabel(\"Precision\")\n",
    "ax2.set_title(\"Precision-Recall Curves\")\n",
    "ax2.legend(loc=\"upper right\")"
   ]
  },
  {
   "cell_type": "markdown",
   "metadata": {},
   "source": [
    "The model with the best balance of precision and recall appears to be the logistic regression model, even though it has a lower average precision than the SVM model, as it achieves the highest F1 score out of all the models. Let's review this model at the point of its optimal F1 score."
   ]
  },
  {
   "cell_type": "code",
   "execution_count": 49,
   "metadata": {},
   "outputs": [],
   "source": [
    "f1 = 2*lr_precision*lr_recall/(lr_precision+lr_recall)"
   ]
  },
  {
   "cell_type": "code",
   "execution_count": 50,
   "metadata": {
    "scrolled": true
   },
   "outputs": [
    {
     "name": "stdout",
     "output_type": "stream",
     "text": [
      "Best model: LogisticRegression(C=1.0, class_weight='balanced', dual=False,\n",
      "          fit_intercept=True, intercept_scaling=1, max_iter=1000,\n",
      "          multi_class='warn', n_jobs=None, penalty='l2', random_state=None,\n",
      "          solver='liblinear', tol=0.0001, verbose=0, warm_start=True)\n",
      "F1 score: 0.5974025974025974\n",
      "Precision: 0.4791666666666667\n",
      "Recall: 0.7931034482758621\n"
     ]
    }
   ],
   "source": [
    "print(\"Best model:\",models[0][\"best_model\"])\n",
    "print(\"F1 score:\", np.nanmax(f1))\n",
    "print(\"Precision:\", lr_precision[np.nanargmax(f1)])\n",
    "print(\"Recall:\", lr_recall[np.nanargmax(f1)])"
   ]
  },
  {
   "cell_type": "markdown",
   "metadata": {},
   "source": [
    "It is noteworthy that this model incorporated balanced class weights to encourage correct classification of the majority class. This was also observed in the SVM model that had the second best performance. It appears that the use of balanced class weights and a scoring metric (F1) that accounted for imbalanced classes was superior to resampling the classes."
   ]
  },
  {
   "cell_type": "markdown",
   "metadata": {},
   "source": [
    "### Final Model Recommendation"
   ]
  },
  {
   "cell_type": "markdown",
   "metadata": {},
   "source": [
    "I would recommend implementing the logistic regression model described above, as it gives the best balance of precision and recall out of all of the investigated models. This will lead to identification of customers willing to subscribe to term deposits and higher success rates in calls overall. How does this compare to the original data set?"
   ]
  },
  {
   "cell_type": "code",
   "execution_count": 51,
   "metadata": {},
   "outputs": [
    {
     "data": {
      "text/plain": [
       "0.09666666666666666"
      ]
     },
     "execution_count": 51,
     "metadata": {},
     "output_type": "execute_result"
    }
   ],
   "source": [
    "holdout_group[target].mean()"
   ]
  },
  {
   "cell_type": "markdown",
   "metadata": {},
   "source": [
    "Less than 10% of callers subscribed to term deposits in the previous campaign. With our model, we estimate almost 50% of clients we call based on the model's recommendation will be amenable to subscription. On top of this, our model will detect almost 80% of clients who are willing to subscribe to term deposits."
   ]
  },
  {
   "cell_type": "markdown",
   "metadata": {},
   "source": [
    "If a higher precision is required, I would recommend switching to the optimal SVM model for the unbalanced classes. This had the highest average precision of all classes. By switching to this model, a precision of approximately 0.6 could be achieved by sacrificing recall to 0.4."
   ]
  },
  {
   "cell_type": "code",
   "execution_count": null,
   "metadata": {},
   "outputs": [],
   "source": []
  }
 ],
 "metadata": {
  "kernelspec": {
   "display_name": "Python 3",
   "language": "python",
   "name": "python3"
  },
  "language_info": {
   "codemirror_mode": {
    "name": "ipython",
    "version": 3
   },
   "file_extension": ".py",
   "mimetype": "text/x-python",
   "name": "python",
   "nbconvert_exporter": "python",
   "pygments_lexer": "ipython3",
   "version": "3.7.1"
  }
 },
 "nbformat": 4,
 "nbformat_minor": 2
}
