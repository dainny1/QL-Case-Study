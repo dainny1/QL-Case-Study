{
 "cells": [
  {
   "cell_type": "markdown",
   "metadata": {},
   "source": [
    "# Term Deposit Predictions\n",
    "Jacob Macdonald\n",
    "### Problem Definition\n",
    "Term deposits are an important mechanism for banks to receive funds they can use in other investments with higher rates of return. Thus, it is of great interest for banks to better understand what factors may contribute to customers deciding to subscribe to a term deposit. In this case study, I developed models describing the relationship between a variety of factors from directed marketing campaigns for term deposits and the likelihood of the targets in question subscribing to a term deposit.\n",
    "### Data Set\n",
    "The provided data set was derived from direct marketing campaigns for term deposits of a Portuguese banking institution from May 2008 to November 2010. The marketing campaigns were conducted over the phone, both actively calling a list of clients to sell the deposit and soliciting client calls to the contact center for any other reason. The data set can be downloaded from [UC Irvine's Machine Learning Respository](https://archive.ics.uci.edu/ml/datasets/Bank+Marketing) and was published in the [Decision Support Systems Journal](https://www.sciencedirect.com/science/article/pii/S016792361400061X)."
   ]
  },
  {
   "cell_type": "code",
   "execution_count": 1,
   "metadata": {},
   "outputs": [],
   "source": [
    "# Importing useful Python libraries\n",
    "import numpy as np\n",
    "import pandas as pd\n",
    "import matplotlib.pyplot as plt\n",
    "import seaborn as sns\n",
    "%matplotlib inline"
   ]
  },
  {
   "cell_type": "code",
   "execution_count": 2,
   "metadata": {},
   "outputs": [],
   "source": [
    "# Loading in the data sets\n",
    "bank_full = pd.read_csv(\"bank-additional-full.csv\", sep=\";\") #Full data set\n",
    "bank_partial = pd.read_csv(\"bank-additional.csv\", sep=\";\") # Data set with 10% of cases (same features as full data set)"
   ]
  },
  {
   "cell_type": "code",
   "execution_count": 3,
   "metadata": {},
   "outputs": [
    {
     "data": {
      "text/html": [
       "<div>\n",
       "<style scoped>\n",
       "    .dataframe tbody tr th:only-of-type {\n",
       "        vertical-align: middle;\n",
       "    }\n",
       "\n",
       "    .dataframe tbody tr th {\n",
       "        vertical-align: top;\n",
       "    }\n",
       "\n",
       "    .dataframe thead th {\n",
       "        text-align: right;\n",
       "    }\n",
       "</style>\n",
       "<table border=\"1\" class=\"dataframe\">\n",
       "  <thead>\n",
       "    <tr style=\"text-align: right;\">\n",
       "      <th></th>\n",
       "      <th>age</th>\n",
       "      <th>job</th>\n",
       "      <th>marital</th>\n",
       "      <th>education</th>\n",
       "      <th>default</th>\n",
       "      <th>housing</th>\n",
       "      <th>loan</th>\n",
       "      <th>contact</th>\n",
       "      <th>month</th>\n",
       "      <th>day_of_week</th>\n",
       "      <th>...</th>\n",
       "      <th>campaign</th>\n",
       "      <th>pdays</th>\n",
       "      <th>previous</th>\n",
       "      <th>poutcome</th>\n",
       "      <th>emp.var.rate</th>\n",
       "      <th>cons.price.idx</th>\n",
       "      <th>cons.conf.idx</th>\n",
       "      <th>euribor3m</th>\n",
       "      <th>nr.employed</th>\n",
       "      <th>y</th>\n",
       "    </tr>\n",
       "  </thead>\n",
       "  <tbody>\n",
       "    <tr>\n",
       "      <th>0</th>\n",
       "      <td>56</td>\n",
       "      <td>housemaid</td>\n",
       "      <td>married</td>\n",
       "      <td>basic.4y</td>\n",
       "      <td>no</td>\n",
       "      <td>no</td>\n",
       "      <td>no</td>\n",
       "      <td>telephone</td>\n",
       "      <td>may</td>\n",
       "      <td>mon</td>\n",
       "      <td>...</td>\n",
       "      <td>1</td>\n",
       "      <td>999</td>\n",
       "      <td>0</td>\n",
       "      <td>nonexistent</td>\n",
       "      <td>1.1</td>\n",
       "      <td>93.994</td>\n",
       "      <td>-36.4</td>\n",
       "      <td>4.857</td>\n",
       "      <td>5191.0</td>\n",
       "      <td>no</td>\n",
       "    </tr>\n",
       "    <tr>\n",
       "      <th>1</th>\n",
       "      <td>57</td>\n",
       "      <td>services</td>\n",
       "      <td>married</td>\n",
       "      <td>high.school</td>\n",
       "      <td>unknown</td>\n",
       "      <td>no</td>\n",
       "      <td>no</td>\n",
       "      <td>telephone</td>\n",
       "      <td>may</td>\n",
       "      <td>mon</td>\n",
       "      <td>...</td>\n",
       "      <td>1</td>\n",
       "      <td>999</td>\n",
       "      <td>0</td>\n",
       "      <td>nonexistent</td>\n",
       "      <td>1.1</td>\n",
       "      <td>93.994</td>\n",
       "      <td>-36.4</td>\n",
       "      <td>4.857</td>\n",
       "      <td>5191.0</td>\n",
       "      <td>no</td>\n",
       "    </tr>\n",
       "    <tr>\n",
       "      <th>2</th>\n",
       "      <td>37</td>\n",
       "      <td>services</td>\n",
       "      <td>married</td>\n",
       "      <td>high.school</td>\n",
       "      <td>no</td>\n",
       "      <td>yes</td>\n",
       "      <td>no</td>\n",
       "      <td>telephone</td>\n",
       "      <td>may</td>\n",
       "      <td>mon</td>\n",
       "      <td>...</td>\n",
       "      <td>1</td>\n",
       "      <td>999</td>\n",
       "      <td>0</td>\n",
       "      <td>nonexistent</td>\n",
       "      <td>1.1</td>\n",
       "      <td>93.994</td>\n",
       "      <td>-36.4</td>\n",
       "      <td>4.857</td>\n",
       "      <td>5191.0</td>\n",
       "      <td>no</td>\n",
       "    </tr>\n",
       "    <tr>\n",
       "      <th>3</th>\n",
       "      <td>40</td>\n",
       "      <td>admin.</td>\n",
       "      <td>married</td>\n",
       "      <td>basic.6y</td>\n",
       "      <td>no</td>\n",
       "      <td>no</td>\n",
       "      <td>no</td>\n",
       "      <td>telephone</td>\n",
       "      <td>may</td>\n",
       "      <td>mon</td>\n",
       "      <td>...</td>\n",
       "      <td>1</td>\n",
       "      <td>999</td>\n",
       "      <td>0</td>\n",
       "      <td>nonexistent</td>\n",
       "      <td>1.1</td>\n",
       "      <td>93.994</td>\n",
       "      <td>-36.4</td>\n",
       "      <td>4.857</td>\n",
       "      <td>5191.0</td>\n",
       "      <td>no</td>\n",
       "    </tr>\n",
       "    <tr>\n",
       "      <th>4</th>\n",
       "      <td>56</td>\n",
       "      <td>services</td>\n",
       "      <td>married</td>\n",
       "      <td>high.school</td>\n",
       "      <td>no</td>\n",
       "      <td>no</td>\n",
       "      <td>yes</td>\n",
       "      <td>telephone</td>\n",
       "      <td>may</td>\n",
       "      <td>mon</td>\n",
       "      <td>...</td>\n",
       "      <td>1</td>\n",
       "      <td>999</td>\n",
       "      <td>0</td>\n",
       "      <td>nonexistent</td>\n",
       "      <td>1.1</td>\n",
       "      <td>93.994</td>\n",
       "      <td>-36.4</td>\n",
       "      <td>4.857</td>\n",
       "      <td>5191.0</td>\n",
       "      <td>no</td>\n",
       "    </tr>\n",
       "  </tbody>\n",
       "</table>\n",
       "<p>5 rows × 21 columns</p>\n",
       "</div>"
      ],
      "text/plain": [
       "   age        job  marital    education  default housing loan    contact  \\\n",
       "0   56  housemaid  married     basic.4y       no      no   no  telephone   \n",
       "1   57   services  married  high.school  unknown      no   no  telephone   \n",
       "2   37   services  married  high.school       no     yes   no  telephone   \n",
       "3   40     admin.  married     basic.6y       no      no   no  telephone   \n",
       "4   56   services  married  high.school       no      no  yes  telephone   \n",
       "\n",
       "  month day_of_week ...  campaign  pdays  previous     poutcome emp.var.rate  \\\n",
       "0   may         mon ...         1    999         0  nonexistent          1.1   \n",
       "1   may         mon ...         1    999         0  nonexistent          1.1   \n",
       "2   may         mon ...         1    999         0  nonexistent          1.1   \n",
       "3   may         mon ...         1    999         0  nonexistent          1.1   \n",
       "4   may         mon ...         1    999         0  nonexistent          1.1   \n",
       "\n",
       "   cons.price.idx  cons.conf.idx  euribor3m  nr.employed   y  \n",
       "0          93.994          -36.4      4.857       5191.0  no  \n",
       "1          93.994          -36.4      4.857       5191.0  no  \n",
       "2          93.994          -36.4      4.857       5191.0  no  \n",
       "3          93.994          -36.4      4.857       5191.0  no  \n",
       "4          93.994          -36.4      4.857       5191.0  no  \n",
       "\n",
       "[5 rows x 21 columns]"
      ]
     },
     "execution_count": 3,
     "metadata": {},
     "output_type": "execute_result"
    }
   ],
   "source": [
    "# Confirming correct file import\n",
    "bank_full.head()"
   ]
  },
  {
   "cell_type": "markdown",
   "metadata": {},
   "source": [
    "### Model Strategy\n",
    "For model development, I will focus on the partial data set with 10% of the values. This will allow for more convenient testing of computationally demanding machine learning algorithms. A variety of classification machine learning algorithms will be investigated, including logistic regression and random forests."
   ]
  },
  {
   "cell_type": "markdown",
   "metadata": {},
   "source": [
    "### Data Cleaning\n",
    "First and foremost, let's convert the results column \"y\" from \"yes\" or \"no\" to the binary outcomes of 1 or 0, respectively."
   ]
  },
  {
   "cell_type": "code",
   "execution_count": 4,
   "metadata": {},
   "outputs": [],
   "source": [
    "bank_partial[\"y\"] = bank_partial[\"y\"].replace([\"yes\",\"no\"],[1,0])"
   ]
  },
  {
   "cell_type": "markdown",
   "metadata": {},
   "source": [
    "The feature columns need to be cleaned for a variety of factors that could confound the developed models from:\n",
    "1. Leaking information from the future\n",
    "2. Poor formatting\n",
    "3. Containing redundant data\n",
    "4. Missing data or needing more processing to be useful\n",
    "\n",
    "#### Leaking Information from the Future\n",
    "The aim is to develop a model that will help banking institutions determine clients who will be receptive to term deposit marketing campaigns **in advance**. Thus, features should be omitted if they include information we could not realistically control for future campaigns. Including these in our model could lead to overfitting. Referring to the data dictionary for this data sets reveal a few features that should be excluded for this reason.\n",
    "* \"duration\": Call duration cannot be controlled in advance.\n",
    "* \"campaign\": It cannot be predicted in advance how many contacts will be performed for a particular person during the campaign."
   ]
  },
  {
   "cell_type": "code",
   "execution_count": 5,
   "metadata": {},
   "outputs": [],
   "source": [
    "# Removing these two features from our data set.\n",
    "bank_partial = bank_partial.drop(['duration','campaign'], axis=1)"
   ]
  },
  {
   "cell_type": "markdown",
   "metadata": {},
   "source": [
    "#### Poor Formatting\n",
    "Inspection of the features reveals that this data set has consistent formatting for each category. Thus, no cleaning needs to be done in this respect.\n",
    "\n",
    "#### Containing Redundant Data\n",
    "The features \"pdays\", \"previous\", and \"poutcome\" seem to have redundant data. If we include this information and there is a correlation between clients not previously being contacted and willingness to subscribe to a term deposit, this parameter will inflated given its representation in all three of these features. For simplicity, let's only keep one. We will keep \"poutcome\" because it is most directly relevant to the goal of predicting how amenable a client will be to subscribing to a service."
   ]
  },
  {
   "cell_type": "code",
   "execution_count": 6,
   "metadata": {},
   "outputs": [
    {
     "data": {
      "text/plain": [
       "999    3959\n",
       "3        52\n",
       "6        42\n",
       "4        14\n",
       "7        10\n",
       "10        8\n",
       "12        5\n",
       "5         4\n",
       "2         4\n",
       "9         3\n",
       "1         3\n",
       "13        2\n",
       "18        2\n",
       "16        2\n",
       "15        2\n",
       "0         2\n",
       "14        1\n",
       "19        1\n",
       "21        1\n",
       "17        1\n",
       "11        1\n",
       "Name: pdays, dtype: int64"
      ]
     },
     "execution_count": 6,
     "metadata": {},
     "output_type": "execute_result"
    }
   ],
   "source": [
    "bank_partial[\"pdays\"].value_counts()"
   ]
  },
  {
   "cell_type": "code",
   "execution_count": 7,
   "metadata": {},
   "outputs": [
    {
     "data": {
      "text/plain": [
       "0    3523\n",
       "1     475\n",
       "2      78\n",
       "3      25\n",
       "4      14\n",
       "6       2\n",
       "5       2\n",
       "Name: previous, dtype: int64"
      ]
     },
     "execution_count": 7,
     "metadata": {},
     "output_type": "execute_result"
    }
   ],
   "source": [
    "bank_partial[\"previous\"].value_counts()"
   ]
  },
  {
   "cell_type": "code",
   "execution_count": 8,
   "metadata": {},
   "outputs": [
    {
     "data": {
      "text/plain": [
       "nonexistent    3523\n",
       "failure         454\n",
       "success         142\n",
       "Name: poutcome, dtype: int64"
      ]
     },
     "execution_count": 8,
     "metadata": {},
     "output_type": "execute_result"
    }
   ],
   "source": [
    "bank_partial[\"poutcome\"].value_counts()"
   ]
  },
  {
   "cell_type": "code",
   "execution_count": 9,
   "metadata": {},
   "outputs": [],
   "source": [
    "# Removing the redundant features from our data set.\n",
    "bank_partial = bank_partial.drop(['pdays','previous'], axis=1)"
   ]
  },
  {
   "cell_type": "markdown",
   "metadata": {},
   "source": [
    "#### Missing Data or Needing More Processing to be Useful\n",
    "For this step it is important to remember that missing values in this data set do not appear as NaN, but as the text field \"unknown.\" Approaching this on a feature-by-feature basis:\n",
    "\n",
    "*Age:* Currently there are 67 unique values for age, ranging from 18 to 88. We will standardize this parameter. This will be done later in the notebook with the economic indicators."
   ]
  },
  {
   "cell_type": "code",
   "execution_count": 10,
   "metadata": {},
   "outputs": [
    {
     "data": {
      "text/plain": [
       "count    4119.000000\n",
       "mean       40.113620\n",
       "std        10.313362\n",
       "min        18.000000\n",
       "25%        32.000000\n",
       "50%        38.000000\n",
       "75%        47.000000\n",
       "max        88.000000\n",
       "Name: age, dtype: float64"
      ]
     },
     "execution_count": 10,
     "metadata": {},
     "output_type": "execute_result"
    }
   ],
   "source": [
    "bank_partial[\"age\"].describe()"
   ]
  },
  {
   "cell_type": "code",
   "execution_count": null,
   "metadata": {},
   "outputs": [],
   "source": []
  },
  {
   "cell_type": "markdown",
   "metadata": {},
   "source": [
    "*Job:* This feature is a categorical variable with 12 categories (including the unknown column). In the context of this work, we are trying to develop a model to accurately predict who will subscribe to term deposits. A bank will likely have employment information on their own customers, so let's remove the rows with \"unknown\" values since the bank is unlikely to target these in a future campaign."
   ]
  },
  {
   "cell_type": "code",
   "execution_count": 11,
   "metadata": {
    "scrolled": true
   },
   "outputs": [
    {
     "data": {
      "text/plain": [
       "admin.           1012\n",
       "blue-collar       884\n",
       "technician        691\n",
       "services          393\n",
       "management        324\n",
       "retired           166\n",
       "self-employed     159\n",
       "entrepreneur      148\n",
       "unemployed        111\n",
       "housemaid         110\n",
       "student            82\n",
       "unknown            39\n",
       "Name: job, dtype: int64"
      ]
     },
     "execution_count": 11,
     "metadata": {},
     "output_type": "execute_result"
    }
   ],
   "source": [
    "bank_partial[\"job\"].value_counts()"
   ]
  },
  {
   "cell_type": "code",
   "execution_count": 12,
   "metadata": {},
   "outputs": [],
   "source": [
    "bank_partial = bank_partial[bank_partial[\"job\"] != \"unknown\"]"
   ]
  },
  {
   "cell_type": "markdown",
   "metadata": {},
   "source": [
    "*Marital:* This is another categorical feature with 4 values, including the missing values labelled \"unknown.\" As with the previous feature, the missing values comprise a miniscule portion of the data and cannot be adequately inferred. Since the bank would have marriage information on customers it would target with its next campaign, let's remove these unknown values to avoid introducing possible variance into the model with imputation."
   ]
  },
  {
   "cell_type": "code",
   "execution_count": 13,
   "metadata": {},
   "outputs": [
    {
     "data": {
      "text/plain": [
       "married     2481\n",
       "single      1144\n",
       "divorced     444\n",
       "unknown       11\n",
       "Name: marital, dtype: int64"
      ]
     },
     "execution_count": 13,
     "metadata": {},
     "output_type": "execute_result"
    }
   ],
   "source": [
    "bank_partial[\"marital\"].value_counts()"
   ]
  },
  {
   "cell_type": "code",
   "execution_count": 14,
   "metadata": {},
   "outputs": [],
   "source": [
    "bank_partial = bank_partial[bank_partial[\"marital\"] != \"unknown\"]"
   ]
  },
  {
   "cell_type": "markdown",
   "metadata": {},
   "source": [
    "*Education:* Another categorical feature with 8 values, including the missing field. This time, the missing field has a non-insignificant number of entries, which suggests we could lose some valuable information if we remove it. In previous studies it has been shown people are likely to not respond to questions or leave them blank if they feel embarassed by their answer. With this in mind, let's assume the unknown values correspond to a group who did not receive any formal education. Let's group them with the single illiterate subject in a new \"uneducated\" group."
   ]
  },
  {
   "cell_type": "code",
   "execution_count": 15,
   "metadata": {},
   "outputs": [
    {
     "data": {
      "text/plain": [
       "university.degree      1256\n",
       "high.school             912\n",
       "basic.9y                568\n",
       "professional.course     533\n",
       "basic.4y                418\n",
       "basic.6y                227\n",
       "unknown                 154\n",
       "illiterate                1\n",
       "Name: education, dtype: int64"
      ]
     },
     "execution_count": 15,
     "metadata": {},
     "output_type": "execute_result"
    }
   ],
   "source": [
    "bank_partial[\"education\"].value_counts()"
   ]
  },
  {
   "cell_type": "code",
   "execution_count": 16,
   "metadata": {},
   "outputs": [
    {
     "data": {
      "text/plain": [
       "university.degree      1256\n",
       "high.school             912\n",
       "basic.9y                568\n",
       "professional.course     533\n",
       "basic.4y                418\n",
       "basic.6y                227\n",
       "uneducated              155\n",
       "Name: education, dtype: int64"
      ]
     },
     "execution_count": 16,
     "metadata": {},
     "output_type": "execute_result"
    }
   ],
   "source": [
    "bank_partial[\"education\"] = bank_partial[\"education\"].replace([\"unknown\",\"illiterate\"],\"uneducated\")\n",
    "bank_partial[\"education\"].value_counts()"
   ]
  },
  {
   "cell_type": "code",
   "execution_count": 17,
   "metadata": {},
   "outputs": [
    {
     "data": {
      "text/html": [
       "<div>\n",
       "<style scoped>\n",
       "    .dataframe tbody tr th:only-of-type {\n",
       "        vertical-align: middle;\n",
       "    }\n",
       "\n",
       "    .dataframe tbody tr th {\n",
       "        vertical-align: top;\n",
       "    }\n",
       "\n",
       "    .dataframe thead th {\n",
       "        text-align: right;\n",
       "    }\n",
       "</style>\n",
       "<table border=\"1\" class=\"dataframe\">\n",
       "  <thead>\n",
       "    <tr style=\"text-align: right;\">\n",
       "      <th></th>\n",
       "      <th>y</th>\n",
       "    </tr>\n",
       "    <tr>\n",
       "      <th>education</th>\n",
       "      <th></th>\n",
       "    </tr>\n",
       "  </thead>\n",
       "  <tbody>\n",
       "    <tr>\n",
       "      <th>basic.9y</th>\n",
       "      <td>0.073944</td>\n",
       "    </tr>\n",
       "    <tr>\n",
       "      <th>basic.6y</th>\n",
       "      <td>0.074890</td>\n",
       "    </tr>\n",
       "    <tr>\n",
       "      <th>basic.4y</th>\n",
       "      <td>0.088517</td>\n",
       "    </tr>\n",
       "    <tr>\n",
       "      <th>high.school</th>\n",
       "      <td>0.106360</td>\n",
       "    </tr>\n",
       "    <tr>\n",
       "      <th>professional.course</th>\n",
       "      <td>0.121951</td>\n",
       "    </tr>\n",
       "    <tr>\n",
       "      <th>university.degree</th>\n",
       "      <td>0.130573</td>\n",
       "    </tr>\n",
       "    <tr>\n",
       "      <th>uneducated</th>\n",
       "      <td>0.154839</td>\n",
       "    </tr>\n",
       "  </tbody>\n",
       "</table>\n",
       "</div>"
      ],
      "text/plain": [
       "                            y\n",
       "education                    \n",
       "basic.9y             0.073944\n",
       "basic.6y             0.074890\n",
       "basic.4y             0.088517\n",
       "high.school          0.106360\n",
       "professional.course  0.121951\n",
       "university.degree    0.130573\n",
       "uneducated           0.154839"
      ]
     },
     "execution_count": 17,
     "metadata": {},
     "output_type": "execute_result"
    }
   ],
   "source": [
    "pd.pivot_table(bank_partial,values=\"y\",index=\"education\").sort_values(\"y\")"
   ]
  },
  {
   "cell_type": "markdown",
   "metadata": {},
   "source": [
    "*Default:* This parameter was a yes/no binary outcome. However, there is only 1 yes response and many unknowns. The lack of variance in the known values, and large amount of unknowns, suggest this parameter will not be useful to our model. Let's remove this entire feature."
   ]
  },
  {
   "cell_type": "code",
   "execution_count": 18,
   "metadata": {},
   "outputs": [
    {
     "data": {
      "text/plain": [
       "no         3284\n",
       "unknown     784\n",
       "yes           1\n",
       "Name: default, dtype: int64"
      ]
     },
     "execution_count": 18,
     "metadata": {},
     "output_type": "execute_result"
    }
   ],
   "source": [
    "bank_partial[\"default\"].value_counts()"
   ]
  },
  {
   "cell_type": "code",
   "execution_count": 19,
   "metadata": {},
   "outputs": [],
   "source": [
    "bank_partial = bank_partial.drop(\"default\",axis=1)"
   ]
  },
  {
   "cell_type": "markdown",
   "metadata": {},
   "source": [
    "*Housing:* The housing feature is a binary yes/no variable with 105 missing responses. It appears that the following \"Loan\" feature is missing responses from the same 105 respondants. Let's eliminate these variables, to improve the predictive power of the model when the bank can select who they target based on having all information available. With the missing values removed, we can convert this from \"yes\"/\"no\" to a binary 1/0."
   ]
  },
  {
   "cell_type": "code",
   "execution_count": 20,
   "metadata": {},
   "outputs": [
    {
     "data": {
      "text/plain": [
       "yes        2148\n",
       "no         1816\n",
       "unknown     105\n",
       "Name: housing, dtype: int64"
      ]
     },
     "execution_count": 20,
     "metadata": {},
     "output_type": "execute_result"
    }
   ],
   "source": [
    "bank_partial[\"housing\"].value_counts()"
   ]
  },
  {
   "cell_type": "code",
   "execution_count": 21,
   "metadata": {},
   "outputs": [],
   "source": [
    "bank_partial = bank_partial[bank_partial[\"housing\"] != \"unknown\"]\n",
    "bank_partial[\"housing\"] = bank_partial[\"housing\"].replace([\"yes\",\"no\"],[1,0])"
   ]
  },
  {
   "cell_type": "markdown",
   "metadata": {},
   "source": [
    "*Loan:* With the cases having missing values for \"housing\" removed, there are no remaining missing values for \"loan\". Let's convert this from a binary \"yes\"/\"no\" to 1/0."
   ]
  },
  {
   "cell_type": "code",
   "execution_count": 22,
   "metadata": {
    "scrolled": true
   },
   "outputs": [
    {
     "data": {
      "text/plain": [
       "no     3308\n",
       "yes     656\n",
       "Name: loan, dtype: int64"
      ]
     },
     "execution_count": 22,
     "metadata": {},
     "output_type": "execute_result"
    }
   ],
   "source": [
    "bank_partial[\"loan\"].value_counts()"
   ]
  },
  {
   "cell_type": "code",
   "execution_count": 23,
   "metadata": {},
   "outputs": [],
   "source": [
    "bank_partial[\"loan\"] = bank_partial[\"loan\"].replace([\"yes\",\"no\"],[1,0])"
   ]
  },
  {
   "cell_type": "markdown",
   "metadata": {},
   "source": [
    "*Contact:* This binary outcome variable will be changed from cellular/telephone to 1/0 to allow for models that don't support mixed data types."
   ]
  },
  {
   "cell_type": "code",
   "execution_count": 24,
   "metadata": {},
   "outputs": [
    {
     "data": {
      "text/plain": [
       "cellular     2562\n",
       "telephone    1402\n",
       "Name: contact, dtype: int64"
      ]
     },
     "execution_count": 24,
     "metadata": {},
     "output_type": "execute_result"
    }
   ],
   "source": [
    "bank_partial[\"contact\"].value_counts()"
   ]
  },
  {
   "cell_type": "code",
   "execution_count": 25,
   "metadata": {},
   "outputs": [],
   "source": [
    "bank_partial[\"contact\"] = bank_partial[\"contact\"].replace([\"cellular\",\"telephone\"],[1,0])"
   ]
  },
  {
   "cell_type": "markdown",
   "metadata": {},
   "source": [
    "*Month:* This a difficult feature as we are missing data for January and February. It appears that the campaign did not run in these months. The large volume of calls over the summer months, shown below, suggests that this is when most of the campaigning was done. However, looking at the bar plot below suggests subscription rates were significantly higher in the months with much fewer clients contacted. This may suggest that the summer saw targeted outgoing calls, where in the winter months they advertised only to customers that called in. For now, we'll leave this parameter in our model, but it might be best to exclude given this imbalance and lack of knowledge on the data collection parameters."
   ]
  },
  {
   "cell_type": "code",
   "execution_count": 26,
   "metadata": {
    "scrolled": false
   },
   "outputs": [
    {
     "data": {
      "text/plain": [
       "<matplotlib.legend.Legend at 0x1d97478f438>"
      ]
     },
     "execution_count": 26,
     "metadata": {},
     "output_type": "execute_result"
    },
    {
     "data": {
      "image/png": "[encoded data removed]",
      "text/plain": [
       "<Figure size 432x288 with 1 Axes>"
      ]
     },
     "metadata": {
      "needs_background": "light"
     },
     "output_type": "display_data"
    }
   ],
   "source": [
    "months = bank_partial[\"month\"].value_counts()\n",
    "labels = [\"mar\",\"apr\",\"may\",\"jun\",\"jul\",\"aug\",\"sep\",\"oct\",\"nov\",\"dec\"]\n",
    "months = months[labels]\n",
    "#sales_rate = pd.pivot_table(bank_partial,values=\"y\",index=\"month\").loc[labels][\"y\"]\n",
    "sales_count = pd.pivot_table(bank_partial,values=\"y\",index=\"month\",aggfunc=sum).loc[labels][\"y\"]\n",
    "\n",
    "barWidth = 0.4\n",
    "x1 = np.arange(len(labels))\n",
    "x2 = [x + barWidth for x in x1]\n",
    "\n",
    "plt.bar(x1,months/months.sum(),width=barWidth,label='Clients per month')\n",
    "plt.bar(x2,sales_count/sales_count.sum(),width=barWidth,color='red',label='Sales per month')\n",
    "plt.xticks([r+barWidth for r in range(len(labels))], labels)\n",
    "plt.ylabel('Proportion')\n",
    "plt.title('Contact rate vs. Success rate')\n",
    "plt.legend()"
   ]
  },
  {
   "cell_type": "markdown",
   "metadata": {},
   "source": [
    "*Day of week:* The days on which clients were contacted and the proportion of which agreed to term deposits are approximately uniform distributions. These won't contribute much to our model, and thus, this feature is being omitted for efficiency."
   ]
  },
  {
   "cell_type": "code",
   "execution_count": 27,
   "metadata": {},
   "outputs": [
    {
     "data": {
      "text/plain": [
       "mon    826\n",
       "thu    824\n",
       "tue    804\n",
       "wed    771\n",
       "fri    739\n",
       "Name: day_of_week, dtype: int64"
      ]
     },
     "execution_count": 27,
     "metadata": {},
     "output_type": "execute_result"
    }
   ],
   "source": [
    "bank_partial[\"day_of_week\"].value_counts()"
   ]
  },
  {
   "cell_type": "code",
   "execution_count": 28,
   "metadata": {
    "scrolled": true
   },
   "outputs": [
    {
     "data": {
      "text/html": [
       "<div>\n",
       "<style scoped>\n",
       "    .dataframe tbody tr th:only-of-type {\n",
       "        vertical-align: middle;\n",
       "    }\n",
       "\n",
       "    .dataframe tbody tr th {\n",
       "        vertical-align: top;\n",
       "    }\n",
       "\n",
       "    .dataframe thead th {\n",
       "        text-align: right;\n",
       "    }\n",
       "</style>\n",
       "<table border=\"1\" class=\"dataframe\">\n",
       "  <thead>\n",
       "    <tr style=\"text-align: right;\">\n",
       "      <th></th>\n",
       "      <th>y</th>\n",
       "    </tr>\n",
       "    <tr>\n",
       "      <th>day_of_week</th>\n",
       "      <th></th>\n",
       "    </tr>\n",
       "  </thead>\n",
       "  <tbody>\n",
       "    <tr>\n",
       "      <th>fri</th>\n",
       "      <td>0.110961</td>\n",
       "    </tr>\n",
       "    <tr>\n",
       "      <th>mon</th>\n",
       "      <td>0.118644</td>\n",
       "    </tr>\n",
       "    <tr>\n",
       "      <th>thu</th>\n",
       "      <td>0.108010</td>\n",
       "    </tr>\n",
       "    <tr>\n",
       "      <th>tue</th>\n",
       "      <td>0.109453</td>\n",
       "    </tr>\n",
       "    <tr>\n",
       "      <th>wed</th>\n",
       "      <td>0.103761</td>\n",
       "    </tr>\n",
       "  </tbody>\n",
       "</table>\n",
       "</div>"
      ],
      "text/plain": [
       "                    y\n",
       "day_of_week          \n",
       "fri          0.110961\n",
       "mon          0.118644\n",
       "thu          0.108010\n",
       "tue          0.109453\n",
       "wed          0.103761"
      ]
     },
     "execution_count": 28,
     "metadata": {},
     "output_type": "execute_result"
    }
   ],
   "source": [
    "pd.pivot_table(bank_partial,values=\"y\",index=\"day_of_week\")"
   ]
  },
  {
   "cell_type": "code",
   "execution_count": 29,
   "metadata": {},
   "outputs": [],
   "source": [
    "bank_partial = bank_partial.drop(\"day_of_week\", axis=1)"
   ]
  },
  {
   "cell_type": "markdown",
   "metadata": {},
   "source": [
    "*emp.var.rate, cons.price.idx, cons.conf.idx, euribor3m, nr.employed:* These five economic indices will be included because they all characterize different aspects of the economy, which has singificant influence on consumer willingness to subscribe to term deposits. All will be standardized."
   ]
  },
  {
   "cell_type": "code",
   "execution_count": 30,
   "metadata": {},
   "outputs": [
    {
     "name": "stderr",
     "output_type": "stream",
     "text": [
      "C:\\Users\\jalex\\Anaconda3\\lib\\site-packages\\sklearn\\preprocessing\\data.py:625: DataConversionWarning: Data with input dtype int64, float64 were all converted to float64 by StandardScaler.\n",
      "  return self.partial_fit(X, y)\n",
      "C:\\Users\\jalex\\Anaconda3\\lib\\site-packages\\ipykernel_launcher.py:5: DataConversionWarning: Data with input dtype int64, float64 were all converted to float64 by StandardScaler.\n",
      "  \"\"\"\n"
     ]
    },
    {
     "data": {
      "text/html": [
       "<div>\n",
       "<style scoped>\n",
       "    .dataframe tbody tr th:only-of-type {\n",
       "        vertical-align: middle;\n",
       "    }\n",
       "\n",
       "    .dataframe tbody tr th {\n",
       "        vertical-align: top;\n",
       "    }\n",
       "\n",
       "    .dataframe thead th {\n",
       "        text-align: right;\n",
       "    }\n",
       "</style>\n",
       "<table border=\"1\" class=\"dataframe\">\n",
       "  <thead>\n",
       "    <tr style=\"text-align: right;\">\n",
       "      <th></th>\n",
       "      <th>age</th>\n",
       "      <th>job</th>\n",
       "      <th>marital</th>\n",
       "      <th>education</th>\n",
       "      <th>housing</th>\n",
       "      <th>loan</th>\n",
       "      <th>contact</th>\n",
       "      <th>month</th>\n",
       "      <th>poutcome</th>\n",
       "      <th>emp.var.rate</th>\n",
       "      <th>cons.price.idx</th>\n",
       "      <th>cons.conf.idx</th>\n",
       "      <th>euribor3m</th>\n",
       "      <th>nr.employed</th>\n",
       "      <th>y</th>\n",
       "    </tr>\n",
       "  </thead>\n",
       "  <tbody>\n",
       "    <tr>\n",
       "      <th>0</th>\n",
       "      <td>-0.975467</td>\n",
       "      <td>blue-collar</td>\n",
       "      <td>married</td>\n",
       "      <td>basic.9y</td>\n",
       "      <td>1</td>\n",
       "      <td>0</td>\n",
       "      <td>1</td>\n",
       "      <td>may</td>\n",
       "      <td>nonexistent</td>\n",
       "      <td>-1.202374</td>\n",
       "      <td>-1.178963</td>\n",
       "      <td>-1.231754</td>\n",
       "      <td>-1.326774</td>\n",
       "      <td>-0.910606</td>\n",
       "      <td>0</td>\n",
       "    </tr>\n",
       "    <tr>\n",
       "      <th>1</th>\n",
       "      <td>-0.102524</td>\n",
       "      <td>services</td>\n",
       "      <td>single</td>\n",
       "      <td>high.school</td>\n",
       "      <td>0</td>\n",
       "      <td>0</td>\n",
       "      <td>0</td>\n",
       "      <td>may</td>\n",
       "      <td>nonexistent</td>\n",
       "      <td>0.653602</td>\n",
       "      <td>0.717707</td>\n",
       "      <td>0.894988</td>\n",
       "      <td>0.715234</td>\n",
       "      <td>0.335597</td>\n",
       "      <td>0</td>\n",
       "    </tr>\n",
       "    <tr>\n",
       "      <th>2</th>\n",
       "      <td>-1.460436</td>\n",
       "      <td>services</td>\n",
       "      <td>married</td>\n",
       "      <td>high.school</td>\n",
       "      <td>1</td>\n",
       "      <td>0</td>\n",
       "      <td>0</td>\n",
       "      <td>jun</td>\n",
       "      <td>nonexistent</td>\n",
       "      <td>0.845600</td>\n",
       "      <td>1.529089</td>\n",
       "      <td>-0.276891</td>\n",
       "      <td>0.776921</td>\n",
       "      <td>0.838688</td>\n",
       "      <td>0</td>\n",
       "    </tr>\n",
       "    <tr>\n",
       "      <th>4</th>\n",
       "      <td>0.673426</td>\n",
       "      <td>admin.</td>\n",
       "      <td>married</td>\n",
       "      <td>university.degree</td>\n",
       "      <td>1</td>\n",
       "      <td>0</td>\n",
       "      <td>1</td>\n",
       "      <td>nov</td>\n",
       "      <td>nonexistent</td>\n",
       "      <td>-0.114388</td>\n",
       "      <td>-0.650101</td>\n",
       "      <td>-0.320293</td>\n",
       "      <td>0.332430</td>\n",
       "      <td>0.400687</td>\n",
       "      <td>0</td>\n",
       "    </tr>\n",
       "    <tr>\n",
       "      <th>5</th>\n",
       "      <td>-0.781480</td>\n",
       "      <td>services</td>\n",
       "      <td>single</td>\n",
       "      <td>university.degree</td>\n",
       "      <td>0</td>\n",
       "      <td>0</td>\n",
       "      <td>1</td>\n",
       "      <td>sep</td>\n",
       "      <td>failure</td>\n",
       "      <td>-0.754380</td>\n",
       "      <td>1.070856</td>\n",
       "      <td>0.656272</td>\n",
       "      <td>-1.574098</td>\n",
       "      <td>-2.748042</td>\n",
       "      <td>0</td>\n",
       "    </tr>\n",
       "  </tbody>\n",
       "</table>\n",
       "</div>"
      ],
      "text/plain": [
       "        age          job  marital          education  housing  loan  contact  \\\n",
       "0 -0.975467  blue-collar  married           basic.9y        1     0        1   \n",
       "1 -0.102524     services   single        high.school        0     0        0   \n",
       "2 -1.460436     services  married        high.school        1     0        0   \n",
       "4  0.673426       admin.  married  university.degree        1     0        1   \n",
       "5 -0.781480     services   single  university.degree        0     0        1   \n",
       "\n",
       "  month     poutcome  emp.var.rate  cons.price.idx  cons.conf.idx  euribor3m  \\\n",
       "0   may  nonexistent     -1.202374       -1.178963      -1.231754  -1.326774   \n",
       "1   may  nonexistent      0.653602        0.717707       0.894988   0.715234   \n",
       "2   jun  nonexistent      0.845600        1.529089      -0.276891   0.776921   \n",
       "4   nov  nonexistent     -0.114388       -0.650101      -0.320293   0.332430   \n",
       "5   sep      failure     -0.754380        1.070856       0.656272  -1.574098   \n",
       "\n",
       "   nr.employed  y  \n",
       "0    -0.910606  0  \n",
       "1     0.335597  0  \n",
       "2     0.838688  0  \n",
       "4     0.400687  0  \n",
       "5    -2.748042  0  "
      ]
     },
     "execution_count": 30,
     "metadata": {},
     "output_type": "execute_result"
    }
   ],
   "source": [
    "from sklearn.preprocessing import StandardScaler\n",
    "scale_features = [\"age\",\"emp.var.rate\", \"cons.price.idx\", \"cons.conf.idx\", \"euribor3m\", \"nr.employed\"]\n",
    "scaler = StandardScaler()\n",
    "scaler.fit(bank_partial[scale_features])\n",
    "bank_partial[scale_features] = scaler.transform(bank_partial[scale_features])\n",
    "bank_partial.head()"
   ]
  },
  {
   "cell_type": "markdown",
   "metadata": {},
   "source": [
    "With our feature columns cleaned and refined, the last step before model development is to convert categorical columns into numerical columns with dummy variables. The columns we need to transform are \"job\", \"marital\", \"education\", \"month\", and \"poutcome\". For all of these features except for \"month\" we will generate k-1 dummies. \"month\" will receive k dummies because we do not wish to confuse the kth month with January or February, which are absent in our model."
   ]
  },
  {
   "cell_type": "code",
   "execution_count": 31,
   "metadata": {},
   "outputs": [
    {
     "data": {
      "text/html": [
       "<div>\n",
       "<style scoped>\n",
       "    .dataframe tbody tr th:only-of-type {\n",
       "        vertical-align: middle;\n",
       "    }\n",
       "\n",
       "    .dataframe tbody tr th {\n",
       "        vertical-align: top;\n",
       "    }\n",
       "\n",
       "    .dataframe thead th {\n",
       "        text-align: right;\n",
       "    }\n",
       "</style>\n",
       "<table border=\"1\" class=\"dataframe\">\n",
       "  <thead>\n",
       "    <tr style=\"text-align: right;\">\n",
       "      <th></th>\n",
       "      <th>age</th>\n",
       "      <th>housing</th>\n",
       "      <th>loan</th>\n",
       "      <th>contact</th>\n",
       "      <th>emp.var.rate</th>\n",
       "      <th>cons.price.idx</th>\n",
       "      <th>cons.conf.idx</th>\n",
       "      <th>euribor3m</th>\n",
       "      <th>nr.employed</th>\n",
       "      <th>y</th>\n",
       "      <th>...</th>\n",
       "      <th>apr</th>\n",
       "      <th>aug</th>\n",
       "      <th>dec</th>\n",
       "      <th>jul</th>\n",
       "      <th>jun</th>\n",
       "      <th>mar</th>\n",
       "      <th>may</th>\n",
       "      <th>nov</th>\n",
       "      <th>oct</th>\n",
       "      <th>sep</th>\n",
       "    </tr>\n",
       "  </thead>\n",
       "  <tbody>\n",
       "    <tr>\n",
       "      <th>0</th>\n",
       "      <td>-0.975467</td>\n",
       "      <td>1</td>\n",
       "      <td>0</td>\n",
       "      <td>1</td>\n",
       "      <td>-1.202374</td>\n",
       "      <td>-1.178963</td>\n",
       "      <td>-1.231754</td>\n",
       "      <td>-1.326774</td>\n",
       "      <td>-0.910606</td>\n",
       "      <td>0</td>\n",
       "      <td>...</td>\n",
       "      <td>0</td>\n",
       "      <td>0</td>\n",
       "      <td>0</td>\n",
       "      <td>0</td>\n",
       "      <td>0</td>\n",
       "      <td>0</td>\n",
       "      <td>1</td>\n",
       "      <td>0</td>\n",
       "      <td>0</td>\n",
       "      <td>0</td>\n",
       "    </tr>\n",
       "    <tr>\n",
       "      <th>1</th>\n",
       "      <td>-0.102524</td>\n",
       "      <td>0</td>\n",
       "      <td>0</td>\n",
       "      <td>0</td>\n",
       "      <td>0.653602</td>\n",
       "      <td>0.717707</td>\n",
       "      <td>0.894988</td>\n",
       "      <td>0.715234</td>\n",
       "      <td>0.335597</td>\n",
       "      <td>0</td>\n",
       "      <td>...</td>\n",
       "      <td>0</td>\n",
       "      <td>0</td>\n",
       "      <td>0</td>\n",
       "      <td>0</td>\n",
       "      <td>0</td>\n",
       "      <td>0</td>\n",
       "      <td>1</td>\n",
       "      <td>0</td>\n",
       "      <td>0</td>\n",
       "      <td>0</td>\n",
       "    </tr>\n",
       "    <tr>\n",
       "      <th>2</th>\n",
       "      <td>-1.460436</td>\n",
       "      <td>1</td>\n",
       "      <td>0</td>\n",
       "      <td>0</td>\n",
       "      <td>0.845600</td>\n",
       "      <td>1.529089</td>\n",
       "      <td>-0.276891</td>\n",
       "      <td>0.776921</td>\n",
       "      <td>0.838688</td>\n",
       "      <td>0</td>\n",
       "      <td>...</td>\n",
       "      <td>0</td>\n",
       "      <td>0</td>\n",
       "      <td>0</td>\n",
       "      <td>0</td>\n",
       "      <td>1</td>\n",
       "      <td>0</td>\n",
       "      <td>0</td>\n",
       "      <td>0</td>\n",
       "      <td>0</td>\n",
       "      <td>0</td>\n",
       "    </tr>\n",
       "    <tr>\n",
       "      <th>4</th>\n",
       "      <td>0.673426</td>\n",
       "      <td>1</td>\n",
       "      <td>0</td>\n",
       "      <td>1</td>\n",
       "      <td>-0.114388</td>\n",
       "      <td>-0.650101</td>\n",
       "      <td>-0.320293</td>\n",
       "      <td>0.332430</td>\n",
       "      <td>0.400687</td>\n",
       "      <td>0</td>\n",
       "      <td>...</td>\n",
       "      <td>0</td>\n",
       "      <td>0</td>\n",
       "      <td>0</td>\n",
       "      <td>0</td>\n",
       "      <td>0</td>\n",
       "      <td>0</td>\n",
       "      <td>0</td>\n",
       "      <td>1</td>\n",
       "      <td>0</td>\n",
       "      <td>0</td>\n",
       "    </tr>\n",
       "    <tr>\n",
       "      <th>5</th>\n",
       "      <td>-0.781480</td>\n",
       "      <td>0</td>\n",
       "      <td>0</td>\n",
       "      <td>1</td>\n",
       "      <td>-0.754380</td>\n",
       "      <td>1.070856</td>\n",
       "      <td>0.656272</td>\n",
       "      <td>-1.574098</td>\n",
       "      <td>-2.748042</td>\n",
       "      <td>0</td>\n",
       "      <td>...</td>\n",
       "      <td>0</td>\n",
       "      <td>0</td>\n",
       "      <td>0</td>\n",
       "      <td>0</td>\n",
       "      <td>0</td>\n",
       "      <td>0</td>\n",
       "      <td>0</td>\n",
       "      <td>0</td>\n",
       "      <td>0</td>\n",
       "      <td>1</td>\n",
       "    </tr>\n",
       "    <tr>\n",
       "      <th>6</th>\n",
       "      <td>-0.781480</td>\n",
       "      <td>1</td>\n",
       "      <td>0</td>\n",
       "      <td>1</td>\n",
       "      <td>-0.754380</td>\n",
       "      <td>1.070856</td>\n",
       "      <td>0.656272</td>\n",
       "      <td>-1.576980</td>\n",
       "      <td>-2.748042</td>\n",
       "      <td>0</td>\n",
       "      <td>...</td>\n",
       "      <td>0</td>\n",
       "      <td>0</td>\n",
       "      <td>0</td>\n",
       "      <td>0</td>\n",
       "      <td>0</td>\n",
       "      <td>0</td>\n",
       "      <td>0</td>\n",
       "      <td>0</td>\n",
       "      <td>0</td>\n",
       "      <td>1</td>\n",
       "    </tr>\n",
       "    <tr>\n",
       "      <th>7</th>\n",
       "      <td>0.091464</td>\n",
       "      <td>1</td>\n",
       "      <td>0</td>\n",
       "      <td>1</td>\n",
       "      <td>-0.114388</td>\n",
       "      <td>-0.650101</td>\n",
       "      <td>-0.320293</td>\n",
       "      <td>0.332430</td>\n",
       "      <td>0.400687</td>\n",
       "      <td>0</td>\n",
       "      <td>...</td>\n",
       "      <td>0</td>\n",
       "      <td>0</td>\n",
       "      <td>0</td>\n",
       "      <td>0</td>\n",
       "      <td>0</td>\n",
       "      <td>0</td>\n",
       "      <td>0</td>\n",
       "      <td>1</td>\n",
       "      <td>0</td>\n",
       "      <td>0</td>\n",
       "    </tr>\n",
       "    <tr>\n",
       "      <th>8</th>\n",
       "      <td>-0.878474</td>\n",
       "      <td>0</td>\n",
       "      <td>0</td>\n",
       "      <td>1</td>\n",
       "      <td>-0.114388</td>\n",
       "      <td>-0.650101</td>\n",
       "      <td>-0.320293</td>\n",
       "      <td>0.310522</td>\n",
       "      <td>0.400687</td>\n",
       "      <td>0</td>\n",
       "      <td>...</td>\n",
       "      <td>0</td>\n",
       "      <td>0</td>\n",
       "      <td>0</td>\n",
       "      <td>0</td>\n",
       "      <td>0</td>\n",
       "      <td>0</td>\n",
       "      <td>0</td>\n",
       "      <td>1</td>\n",
       "      <td>0</td>\n",
       "      <td>0</td>\n",
       "    </tr>\n",
       "    <tr>\n",
       "      <th>9</th>\n",
       "      <td>-0.490499</td>\n",
       "      <td>0</td>\n",
       "      <td>0</td>\n",
       "      <td>0</td>\n",
       "      <td>0.653602</td>\n",
       "      <td>0.717707</td>\n",
       "      <td>0.894988</td>\n",
       "      <td>0.715234</td>\n",
       "      <td>0.335597</td>\n",
       "      <td>0</td>\n",
       "      <td>...</td>\n",
       "      <td>0</td>\n",
       "      <td>0</td>\n",
       "      <td>0</td>\n",
       "      <td>0</td>\n",
       "      <td>0</td>\n",
       "      <td>0</td>\n",
       "      <td>1</td>\n",
       "      <td>0</td>\n",
       "      <td>0</td>\n",
       "      <td>0</td>\n",
       "    </tr>\n",
       "    <tr>\n",
       "      <th>10</th>\n",
       "      <td>-1.460436</td>\n",
       "      <td>1</td>\n",
       "      <td>0</td>\n",
       "      <td>1</td>\n",
       "      <td>0.845600</td>\n",
       "      <td>0.586783</td>\n",
       "      <td>-0.472204</td>\n",
       "      <td>0.774615</td>\n",
       "      <td>0.838688</td>\n",
       "      <td>0</td>\n",
       "      <td>...</td>\n",
       "      <td>0</td>\n",
       "      <td>0</td>\n",
       "      <td>0</td>\n",
       "      <td>1</td>\n",
       "      <td>0</td>\n",
       "      <td>0</td>\n",
       "      <td>0</td>\n",
       "      <td>0</td>\n",
       "      <td>0</td>\n",
       "      <td>0</td>\n",
       "    </tr>\n",
       "  </tbody>\n",
       "</table>\n",
       "<p>10 rows × 40 columns</p>\n",
       "</div>"
      ],
      "text/plain": [
       "         age  housing  loan  contact  emp.var.rate  cons.price.idx  \\\n",
       "0  -0.975467        1     0        1     -1.202374       -1.178963   \n",
       "1  -0.102524        0     0        0      0.653602        0.717707   \n",
       "2  -1.460436        1     0        0      0.845600        1.529089   \n",
       "4   0.673426        1     0        1     -0.114388       -0.650101   \n",
       "5  -0.781480        0     0        1     -0.754380        1.070856   \n",
       "6  -0.781480        1     0        1     -0.754380        1.070856   \n",
       "7   0.091464        1     0        1     -0.114388       -0.650101   \n",
       "8  -0.878474        0     0        1     -0.114388       -0.650101   \n",
       "9  -0.490499        0     0        0      0.653602        0.717707   \n",
       "10 -1.460436        1     0        1      0.845600        0.586783   \n",
       "\n",
       "    cons.conf.idx  euribor3m  nr.employed  y ...   apr  aug  dec  jul  jun  \\\n",
       "0       -1.231754  -1.326774    -0.910606  0 ...     0    0    0    0    0   \n",
       "1        0.894988   0.715234     0.335597  0 ...     0    0    0    0    0   \n",
       "2       -0.276891   0.776921     0.838688  0 ...     0    0    0    0    1   \n",
       "4       -0.320293   0.332430     0.400687  0 ...     0    0    0    0    0   \n",
       "5        0.656272  -1.574098    -2.748042  0 ...     0    0    0    0    0   \n",
       "6        0.656272  -1.576980    -2.748042  0 ...     0    0    0    0    0   \n",
       "7       -0.320293   0.332430     0.400687  0 ...     0    0    0    0    0   \n",
       "8       -0.320293   0.310522     0.400687  0 ...     0    0    0    0    0   \n",
       "9        0.894988   0.715234     0.335597  0 ...     0    0    0    0    0   \n",
       "10      -0.472204   0.774615     0.838688  0 ...     0    0    0    1    0   \n",
       "\n",
       "    mar  may  nov  oct  sep  \n",
       "0     0    1    0    0    0  \n",
       "1     0    1    0    0    0  \n",
       "2     0    0    0    0    0  \n",
       "4     0    0    1    0    0  \n",
       "5     0    0    0    0    1  \n",
       "6     0    0    0    0    1  \n",
       "7     0    0    1    0    0  \n",
       "8     0    0    1    0    0  \n",
       "9     0    1    0    0    0  \n",
       "10    0    0    0    0    0  \n",
       "\n",
       "[10 rows x 40 columns]"
      ]
     },
     "execution_count": 31,
     "metadata": {},
     "output_type": "execute_result"
    }
   ],
   "source": [
    "dummy_df = pd.get_dummies(bank_partial[[\"job\",\"marital\",\"education\",\"poutcome\"]],drop_first=True)\n",
    "bank_partial = pd.concat([bank_partial, dummy_df], axis=1)\n",
    "bank_partial = bank_partial.drop([\"job\",\"marital\",\"education\",\"poutcome\"], axis=1)\n",
    "\n",
    "dummy_df = pd.get_dummies(bank_partial[\"month\"])\n",
    "bank_partial = pd.concat([bank_partial, dummy_df], axis=1)\n",
    "bank_partial = bank_partial.drop([\"month\"], axis=1)\n",
    "\n",
    "bank_partial.head(10)"
   ]
  },
  {
   "cell_type": "markdown",
   "metadata": {},
   "source": [
    "Finally, before we being making models, let's check if there are any duplicate rows and remove them to avoid overfitting to certain cases."
   ]
  },
  {
   "cell_type": "code",
   "execution_count": 60,
   "metadata": {},
   "outputs": [
    {
     "name": "stdout",
     "output_type": "stream",
     "text": [
      "Number of rows before duplicate removal:  3864\n",
      "Number of duplicates:  0\n",
      "Number of rows after duplicate removal:  3864\n"
     ]
    }
   ],
   "source": [
    "print(\"Number of rows before duplicate removal: \", bank_partial.shape[0])\n",
    "n_duplicates = bank_partial.duplicated().sum()\n",
    "print(\"Number of duplicates: \",n_duplicates)\n",
    "bank_partial = bank_partial.drop_duplicates()\n",
    "print(\"Number of rows after duplicate removal: \",bank_partial.shape[0])"
   ]
  },
  {
   "cell_type": "code",
   "execution_count": null,
   "metadata": {},
   "outputs": [],
   "source": []
  },
  {
   "cell_type": "code",
   "execution_count": null,
   "metadata": {},
   "outputs": [],
   "source": []
  },
  {
   "cell_type": "markdown",
   "metadata": {},
   "source": [
    "### Model Development\n",
    "Now that the features are cleaned and refined, we are ready to implement our models. In absence of a proper, separate test set of data, we will hold out a portion of the data for later model testing. These will be the last 500 points of our data set (approximately 12% of the total data). We are using the last 500 points instead of a random subset given the time dependence of this data. "
   ]
  },
  {
   "cell_type": "code",
   "execution_count": 61,
   "metadata": {},
   "outputs": [],
   "source": [
    "# Importing relevant machine learning classes and functions from sklearn\n",
    "from sklearn.linear_model import LogisticRegression\n",
    "from sklearn.model_selection import TimeSeriesSplit, GridSearchCV\n",
    "from sklearn.metrics import accuracy_score, classification_report, roc_auc_score\n",
    "from sklearn.neural_network import MLPClassifier\n",
    "from sklearn.ensemble import RandomForestClassifier\n",
    "from sklearn.svm import SVC"
   ]
  },
  {
   "cell_type": "code",
   "execution_count": 62,
   "metadata": {},
   "outputs": [
    {
     "data": {
      "text/plain": [
       "(3864, 40)"
      ]
     },
     "execution_count": 62,
     "metadata": {},
     "output_type": "execute_result"
    }
   ],
   "source": [
    "# Let's break up our data into a training set and a validation set which will be set aside for later. We'll reserve 500 rows for validation.\n",
    "bank_partial.shape"
   ]
  },
  {
   "cell_type": "code",
   "execution_count": 63,
   "metadata": {},
   "outputs": [],
   "source": [
    "train_group = bank_partial.iloc[:3364,:] # This will be further split into training and validation sets for cross-validation\n",
    "holdout_group = bank_partial.iloc[3364:,:]  # To be withheld until the models have been trained and cross-validated"
   ]
  },
  {
   "cell_type": "markdown",
   "metadata": {},
   "source": [
    "### Cross-Validation\n",
    "Given the temporal nature of this data set."
   ]
  },
  {
   "cell_type": "code",
   "execution_count": 64,
   "metadata": {},
   "outputs": [],
   "source": [
    "tss = TimeSeriesSplit(n_splits=5)\n",
    "\n",
    "# Indicate relevant dependent and target features for modeling.\n",
    "features = list(train_group.columns.drop(\"y\"))\n",
    "target = \"y\""
   ]
  },
  {
   "cell_type": "code",
   "execution_count": 74,
   "metadata": {},
   "outputs": [],
   "source": [
    "def select_models(df,features,target):\n",
    "\n",
    "    # List of dictionaries, each containing a model name,\n",
    "    # it's estimator and a dict of hyperparameters\n",
    "    models = [\n",
    "        {\n",
    "            \"name\": \"LogisticRegression\",\n",
    "            \"estimator\": LogisticRegression(),\n",
    "            \"hyperparameters\":\n",
    "                {\n",
    "                    \"solver\": [\"newton-cg\", \"lbfgs\", \"liblinear\"],\n",
    "                    \"class_weight\": [None,\"balanced\"],\n",
    "                    \"max_iter\": [1000],\n",
    "                    \"warm_start\": [True,False]\n",
    "                }\n",
    "        },\n",
    "        {\n",
    "            \"name\": \"MLPClassifier\",\n",
    "            \"estimator\": MLPClassifier(),\n",
    "            \"hyperparameters\":\n",
    "                {\n",
    "                    \"hidden_layer_sizes\": [(10,),(10,10),(20,)],\n",
    "                    \"max_iter\": [10000],\n",
    "                    \"warm_start\": [True,False]\n",
    "                }\n",
    "        },\n",
    "        {\n",
    "            \"name\": \"RandomForestClassifier\",\n",
    "            \"estimator\": RandomForestClassifier(),\n",
    "            \"hyperparameters\":\n",
    "                {\n",
    "                    \"n_estimators\": [5, 10, 20],\n",
    "                    \"criterion\": [\"entropy\", \"gini\"],\n",
    "                    \"max_depth\": [2, 5, 10],\n",
    "                    \"max_features\": [\"log2\", \"sqrt\"],\n",
    "                    \"min_samples_leaf\": [1, 5, 8],\n",
    "                    \"min_samples_split\": [2, 3, 5],\n",
    "                    \"warm_start\": [True,False]\n",
    "                }\n",
    "        },\n",
    "        {\n",
    "            \"name\": \"SVC\",\n",
    "            \"estimator\": SVC(),\n",
    "            \"hyperparameters\":\n",
    "                {\n",
    "                    \"kernel\": [\"linear\",\"poly\",\"rbf\",\"sigmoid\"],\n",
    "                    \"gamma\": ['auto','scale'],\n",
    "                    \"class_weight\": [None,\"balanced\"],\n",
    "                }\n",
    "        }\n",
    "    ]\n",
    "\n",
    "    for model in models:\n",
    "        print(model['name'])\n",
    "        print('-'*len(model['name']))\n",
    "\n",
    "        grid = GridSearchCV(model[\"estimator\"],\n",
    "                            param_grid=model[\"hyperparameters\"],\n",
    "                            scoring='roc_auc',\n",
    "                            cv=tss.split(df))\n",
    "        grid.fit(df[features],df[target])\n",
    "        model[\"best_params\"] = grid.best_params_\n",
    "        model[\"best_score\"] = grid.best_score_\n",
    "        model[\"best_model\"] = grid.best_estimator_\n",
    "\n",
    "        print(\"Best Score: {}\".format(model[\"best_score\"]))\n",
    "        print(\"Best Parameters: {}\\n\".format(model[\"best_params\"]))\n",
    "\n",
    "    return models"
   ]
  },
  {
   "cell_type": "code",
   "execution_count": 75,
   "metadata": {},
   "outputs": [
    {
     "name": "stdout",
     "output_type": "stream",
     "text": [
      "LogisticRegression\n",
      "------------------\n",
      "Best Score: 0.7356434564947043\n",
      "Best Parameters: {'class_weight': None, 'max_iter': 1000, 'solver': 'newton-cg', 'warm_start': True}\n",
      "\n",
      "MLPClassifier\n",
      "-------------\n",
      "Best Score: 0.6864505923439378\n",
      "Best Parameters: {'hidden_layer_sizes': (10,), 'max_iter': 10000, 'warm_start': False}\n",
      "\n",
      "RandomForestClassifier\n",
      "----------------------\n",
      "Best Score: 0.7606429624034605\n",
      "Best Parameters: {'criterion': 'gini', 'max_depth': 2, 'max_features': 'sqrt', 'min_samples_leaf': 1, 'min_samples_split': 3, 'n_estimators': 5, 'warm_start': False}\n",
      "\n",
      "SVC\n",
      "---\n",
      "Best Score: 0.7467350940700325\n",
      "Best Parameters: {'class_weight': 'balanced', 'gamma': 'auto', 'kernel': 'poly'}\n",
      "\n"
     ]
    }
   ],
   "source": [
    "models = select_models(train_group, features, target)"
   ]
  },
  {
   "cell_type": "markdown",
   "metadata": {},
   "source": [
    "### Applying the Best Model to the Holdout Data"
   ]
  },
  {
   "cell_type": "code",
   "execution_count": null,
   "metadata": {},
   "outputs": [],
   "source": []
  }
 ],
 "metadata": {
  "kernelspec": {
   "display_name": "Python 3",
   "language": "python",
   "name": "python3"
  },
  "language_info": {
   "codemirror_mode": {
    "name": "ipython",
    "version": 3
   },
   "file_extension": ".py",
   "mimetype": "text/x-python",
   "name": "python",
   "nbconvert_exporter": "python",
   "pygments_lexer": "ipython3",
   "version": "3.7.1"
  }
 },
 "nbformat": 4,
 "nbformat_minor": 2
}
